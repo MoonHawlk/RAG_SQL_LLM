{
 "cells": [
  {
   "cell_type": "markdown",
   "id": "965b73bf",
   "metadata": {},
   "source": [
    "# Purpose\n",
    "\n",
    "- Create and Upload the .csv file to the DB, and test an interaction with the llama-index"
   ]
  },
  {
   "cell_type": "code",
   "execution_count": 8,
   "id": "2974e12e",
   "metadata": {},
   "outputs": [
    {
     "name": "stdout",
     "output_type": "stream",
     "text": [
      "🔐 Variáveis de ambiente carregadas com sucesso!\n"
     ]
    }
   ],
   "source": [
    "from dotenv import load_dotenv\n",
    "import os\n",
    "\n",
    "load_dotenv()\n",
    "\n",
    "OPENAI_API_KEY   = os.getenv(\"OPENAI_API_KEY\")\n",
    "MYSQL_USER       = os.getenv(\"MYSQL_USER\")\n",
    "MYSQL_PASSWORD   = os.getenv(\"MYSQL_PASSWORD\")\n",
    "MYSQL_HOST       = os.getenv(\"MYSQL_HOST\", \"localhost\")\n",
    "MYSQL_PORT       = os.getenv(\"MYSQL_PORT\", \"3306\")\n",
    "MYSQL_DATABASE   = os.getenv(\"MYSQL_DATABASE\")\n",
    "\n",
    "# Verificações rápidas\n",
    "assert OPENAI_API_KEY, \"⚠️ Defina OPENAI_API_KEY no .env\"\n",
    "assert MYSQL_USER and MYSQL_PASSWORD and MYSQL_DATABASE, \\\n",
    "       \"⚠️ Defina MYSQL_USER, MYSQL_PASSWORD e MYSQL_DATABASE no .env\"\n",
    "\n",
    "print(\"🔐 Variáveis de ambiente carregadas com sucesso!\")"
   ]
  },
  {
   "cell_type": "markdown",
   "id": "b2324e4a",
   "metadata": {},
   "source": [
    "# Connection to DB"
   ]
  },
  {
   "cell_type": "code",
   "execution_count": 9,
   "id": "24f43c02",
   "metadata": {},
   "outputs": [
    {
     "name": "stdout",
     "output_type": "stream",
     "text": [
      "DataFrame com 120750 linhas gravado na tabela MySQL `train`.\n"
     ]
    }
   ],
   "source": [
    "import pandas as pd\n",
    "from sqlalchemy import create_engine\n",
    "\n",
    "connection_string = (\n",
    "    f\"mysql+pymysql://{MYSQL_USER}:{MYSQL_PASSWORD}\"\n",
    "    f\"@{MYSQL_HOST}:{MYSQL_PORT}/{MYSQL_DATABASE}\"\n",
    ")\n",
    "\n",
    "engine = create_engine(connection_string)\n",
    "\n",
    "csv_path = \"../../data/ready/train.csv\"\n",
    "df_train = pd.read_csv(csv_path)\n",
    "\n",
    "df_train.to_sql(\n",
    "    name=\"train\",\n",
    "    con=engine,\n",
    "    if_exists=\"replace\",\n",
    "    index=False,          \n",
    "    dtype=None           \n",
    ")\n",
    "\n",
    "print(f\"DataFrame com {len(df_train)} linhas gravado na tabela MySQL `train`.\")"
   ]
  },
  {
   "cell_type": "code",
   "execution_count": 10,
   "id": "3ea716d7",
   "metadata": {},
   "outputs": [],
   "source": [
    "from llama_index.core.query_engine import NLSQLTableQueryEngine\n",
    "from llama_index.core import SQLDatabase"
   ]
  },
  {
   "cell_type": "markdown",
   "id": "2b3dbaf7",
   "metadata": {},
   "source": [
    "# Getting connection and engine working"
   ]
  },
  {
   "cell_type": "code",
   "execution_count": 11,
   "id": "44140558",
   "metadata": {},
   "outputs": [],
   "source": [
    "sql_db = SQLDatabase(engine=engine)\n",
    "query_engine = NLSQLTableQueryEngine(sql_database=sql_db, verbose=True)"
   ]
  },
  {
   "cell_type": "markdown",
   "id": "b9fb0c9c",
   "metadata": {},
   "source": [
    "# Testing"
   ]
  },
  {
   "cell_type": "code",
   "execution_count": 12,
   "id": "f176ff2d",
   "metadata": {},
   "outputs": [
    {
     "name": "stdout",
     "output_type": "stream",
     "text": [
      "> Table Info: Table 'train' has columns: REF_DATE (TEXT), Inadiplencia (TEXT), Sexo (TEXT), IDADE (BIGINT), Obito (TEXT), UF (TEXT), Classe Social (TEXT), .\n",
      "> Table desc str: Table 'train' has columns: REF_DATE (TEXT), Inadiplencia (TEXT), Sexo (TEXT), IDADE (BIGINT), Obito (TEXT), UF (TEXT), Classe Social (TEXT), .\n",
      "> Predicted SQL query: SELECT AVG(IDADE) AS Media_Idade FROM train\n",
      "🤖 Resposta: A idade média é de aproximadamente 41.88 anos.\n"
     ]
    }
   ],
   "source": [
    "resposta = query_engine.query(\"Qual a 'idade' média?\")\n",
    "print(\"🤖 Resposta:\", resposta)"
   ]
  },
  {
   "cell_type": "code",
   "execution_count": 13,
   "id": "d57fb396",
   "metadata": {},
   "outputs": [
    {
     "name": "stdout",
     "output_type": "stream",
     "text": [
      "> Table Info: Table 'train' has columns: REF_DATE (TEXT), Inadiplencia (TEXT), Sexo (TEXT), IDADE (BIGINT), Obito (TEXT), UF (TEXT), Classe Social (TEXT), .\n",
      "> Table desc str: Table 'train' has columns: REF_DATE (TEXT), Inadiplencia (TEXT), Sexo (TEXT), IDADE (BIGINT), Obito (TEXT), UF (TEXT), Classe Social (TEXT), .\n",
      "> Predicted SQL query: SELECT Inadiplencia, COUNT(*) AS Quantidade FROM train GROUP BY Inadiplencia\n",
      "🤖 Resposta: Existem 91.163 adimplentes e 29.587 inadimplentes.\n"
     ]
    }
   ],
   "source": [
    "resposta = query_engine.query(\"Quais as quantidades de inadinplentes e adimplentes?\")\n",
    "print(\"🤖 Resposta:\", resposta)"
   ]
  },
  {
   "attachments": {
    "image.png": {
     "image/png": "[encoded data removed]"
    }
   },
   "cell_type": "markdown",
   "id": "0038c1f1",
   "metadata": {},
   "source": [
    "![image.png](attachment:image.png)"
   ]
  },
  {
   "cell_type": "code",
   "execution_count": null,
   "id": "cf7cc864",
   "metadata": {},
   "outputs": [],
   "source": []
  }
 ],
 "metadata": {
  "kernelspec": {
   "display_name": "RAG_SQL_LLM Active",
   "language": "python",
   "name": "rag_sql_llm_env"
  },
  "language_info": {
   "codemirror_mode": {
    "name": "ipython",
    "version": 3
   },
   "file_extension": ".py",
   "mimetype": "text/x-python",
   "name": "python",
   "nbconvert_exporter": "python",
   "pygments_lexer": "ipython3",
   "version": "3.10.11"
  }
 },
 "nbformat": 4,
 "nbformat_minor": 5
}
