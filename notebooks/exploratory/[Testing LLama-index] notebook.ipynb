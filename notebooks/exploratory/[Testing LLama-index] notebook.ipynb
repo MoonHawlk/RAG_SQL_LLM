{
 "cells": [
  {
   "cell_type": "markdown",
   "id": "b14d635e",
   "metadata": {},
   "source": [
    "# Purpose\n",
    "\n",
    "- Test If openAi and llama_index are working smoothly"
   ]
  },
  {
   "cell_type": "code",
   "execution_count": null,
   "id": "58222ed1",
   "metadata": {},
   "outputs": [],
   "source": [
    "from dotenv import load_dotenv\n",
    "import os\n",
    "\n",
    "load_dotenv()  \n",
    "OPENAI_API_KEY = os.getenv(\"OPENAI_API_KEY\")\n",
    "assert OPENAI_API_KEY, \"Defina OPENAI_API_KEY no .env\""
   ]
  },
  {
   "cell_type": "code",
   "execution_count": null,
   "id": "a2fa76df",
   "metadata": {},
   "outputs": [
    {
     "data": {
      "application/vnd.microsoft.datawrangler.viewer.v0+json": {
       "columns": [
        {
         "name": "index",
         "rawType": "int64",
         "type": "integer"
        },
        {
         "name": "REF_DATE",
         "rawType": "object",
         "type": "string"
        },
        {
         "name": "Inadiplencia",
         "rawType": "object",
         "type": "string"
        },
        {
         "name": "Sexo",
         "rawType": "object",
         "type": "string"
        },
        {
         "name": "IDADE",
         "rawType": "int64",
         "type": "integer"
        },
        {
         "name": "Obito",
         "rawType": "object",
         "type": "string"
        },
        {
         "name": "UF",
         "rawType": "object",
         "type": "string"
        },
        {
         "name": "Classe Social",
         "rawType": "object",
         "type": "string"
        }
       ],
       "ref": "60154693-4f09-4e06-9ee6-bde5d28ab2ad",
       "rows": [
        [
         "0",
         "01-06-2017",
         "adimplente",
         "M",
         "34",
         "Vivo",
         "RO",
         "D"
        ],
        [
         "1",
         "18-08-2017",
         "adimplente",
         "M",
         "40",
         "Vivo",
         "PB",
         "E"
        ],
        [
         "2",
         "30-06-2017",
         "adimplente",
         "F",
         "34",
         "Vivo",
         "RS",
         "Non-specified"
        ]
       ],
       "shape": {
        "columns": 7,
        "rows": 3
       }
      },
      "text/html": [
       "<div>\n",
       "<style scoped>\n",
       "    .dataframe tbody tr th:only-of-type {\n",
       "        vertical-align: middle;\n",
       "    }\n",
       "\n",
       "    .dataframe tbody tr th {\n",
       "        vertical-align: top;\n",
       "    }\n",
       "\n",
       "    .dataframe thead th {\n",
       "        text-align: right;\n",
       "    }\n",
       "</style>\n",
       "<table border=\"1\" class=\"dataframe\">\n",
       "  <thead>\n",
       "    <tr style=\"text-align: right;\">\n",
       "      <th></th>\n",
       "      <th>REF_DATE</th>\n",
       "      <th>Inadiplencia</th>\n",
       "      <th>Sexo</th>\n",
       "      <th>IDADE</th>\n",
       "      <th>Obito</th>\n",
       "      <th>UF</th>\n",
       "      <th>Classe Social</th>\n",
       "    </tr>\n",
       "  </thead>\n",
       "  <tbody>\n",
       "    <tr>\n",
       "      <th>0</th>\n",
       "      <td>01-06-2017</td>\n",
       "      <td>adimplente</td>\n",
       "      <td>M</td>\n",
       "      <td>34</td>\n",
       "      <td>Vivo</td>\n",
       "      <td>RO</td>\n",
       "      <td>D</td>\n",
       "    </tr>\n",
       "    <tr>\n",
       "      <th>1</th>\n",
       "      <td>18-08-2017</td>\n",
       "      <td>adimplente</td>\n",
       "      <td>M</td>\n",
       "      <td>40</td>\n",
       "      <td>Vivo</td>\n",
       "      <td>PB</td>\n",
       "      <td>E</td>\n",
       "    </tr>\n",
       "    <tr>\n",
       "      <th>2</th>\n",
       "      <td>30-06-2017</td>\n",
       "      <td>adimplente</td>\n",
       "      <td>F</td>\n",
       "      <td>34</td>\n",
       "      <td>Vivo</td>\n",
       "      <td>RS</td>\n",
       "      <td>Non-specified</td>\n",
       "    </tr>\n",
       "  </tbody>\n",
       "</table>\n",
       "</div>"
      ],
      "text/plain": [
       "     REF_DATE Inadiplencia Sexo  IDADE Obito  UF  Classe Social\n",
       "0  01-06-2017   adimplente    M     34  Vivo  RO              D\n",
       "1  18-08-2017   adimplente    M     40  Vivo  PB              E\n",
       "2  30-06-2017   adimplente    F     34  Vivo  RS  Non-specified"
      ]
     },
     "execution_count": 2,
     "metadata": {},
     "output_type": "execute_result"
    }
   ],
   "source": [
    "import pandas as pd\n",
    "from llama_index.experimental.query_engine import PandasQueryEngine\n",
    "\n",
    "df = pd.read_csv(\"../../data/ready/train.csv\")\n",
    "df.head(3)"
   ]
  },
  {
   "cell_type": "code",
   "execution_count": null,
   "id": "9e6da344",
   "metadata": {},
   "outputs": [
    {
     "name": "stdout",
     "output_type": "stream",
     "text": [
      "INFO:httpx:HTTP Request: POST https://api.openai.com/v1/chat/completions \"HTTP/1.1 200 OK\"\n",
      "HTTP Request: POST https://api.openai.com/v1/chat/completions \"HTTP/1.1 200 OK\"\n",
      "> Pandas Instructions:\n",
      "```\n",
      "df['IDADE'].mean()\n",
      "```\n",
      "> Pandas Output: 41.88248447204969\n",
      "41.88248447204969\n"
     ]
    }
   ],
   "source": [
    "# By deafult it will use the model text-davinci-003 from openai\n",
    "query_engine = PandasQueryEngine(df=df, verbose=True)\n",
    "\n",
    "resp = query_engine.query(\"Qual a média da coluna `idade` nos últimos 3 meses?\")\n",
    "print(resp)"
   ]
  },
  {
   "cell_type": "code",
   "execution_count": 7,
   "id": "4632534f",
   "metadata": {},
   "outputs": [
    {
     "name": "stdout",
     "output_type": "stream",
     "text": [
      "INFO:httpx:HTTP Request: POST https://api.openai.com/v1/chat/completions \"HTTP/1.1 200 OK\"\n",
      "HTTP Request: POST https://api.openai.com/v1/chat/completions \"HTTP/1.1 200 OK\"\n",
      "> Pandas Instructions:\n",
      "```\n",
      "df['UF'].unique()\n",
      "```\n",
      "> Pandas Output: ['RO' 'PB' 'RS' 'BA' 'SP' 'MG' 'RJ' 'MS' 'PR' 'SC' 'RN' 'Non-specified'\n",
      " 'CE' 'AC' 'PE' 'TO' 'AL' 'MT' 'ES' 'MA' 'AM' 'PI' 'DF' 'GO' 'PA' 'SE'\n",
      " 'RR' 'AP']\n"
     ]
    }
   ],
   "source": [
    "resp = query_engine.query(\"Quais são os UFs que temos na base?\")"
   ]
  },
  {
   "cell_type": "code",
   "execution_count": 8,
   "id": "c693edb2",
   "metadata": {},
   "outputs": [
    {
     "name": "stdout",
     "output_type": "stream",
     "text": [
      "INFO:httpx:HTTP Request: POST https://api.openai.com/v1/chat/completions \"HTTP/1.1 200 OK\"\n",
      "HTTP Request: POST https://api.openai.com/v1/chat/completions \"HTTP/1.1 200 OK\"\n",
      "> Pandas Instructions:\n",
      "```\n",
      "df['UF'].value_counts()\n",
      "```\n",
      "> Pandas Output: UF\n",
      "SP               19079\n",
      "BA               10306\n",
      "PA               10159\n",
      "RS                8410\n",
      "CE                8262\n",
      "MG                7757\n",
      "PE                7056\n",
      "RJ                4617\n",
      "AM                4145\n",
      "RN                3800\n",
      "PR                3668\n",
      "Non-specified     3356\n",
      "PB                3085\n",
      "AL                2800\n",
      "ES                2765\n",
      "MS                2515\n",
      "GO                2369\n",
      "AC                2304\n",
      "MA                2083\n",
      "MT                2015\n",
      "SC                2013\n",
      "PI                1858\n",
      "RO                1731\n",
      "AP                1292\n",
      "SE                1175\n",
      "DF                 790\n",
      "TO                 767\n",
      "RR                 573\n",
      "Name: count, dtype: int64\n"
     ]
    }
   ],
   "source": [
    "resp = query_engine.query(\"Quantos elementos tenho de cada UF na base?\")"
   ]
  },
  {
   "cell_type": "code",
   "execution_count": null,
   "id": "4c903ebe",
   "metadata": {},
   "outputs": [],
   "source": []
  }
 ],
 "metadata": {
  "kernelspec": {
   "display_name": "RAG_SQL_LLM Active",
   "language": "python",
   "name": "rag_sql_llm_env"
  },
  "language_info": {
   "codemirror_mode": {
    "name": "ipython",
    "version": 3
   },
   "file_extension": ".py",
   "mimetype": "text/x-python",
   "name": "python",
   "nbconvert_exporter": "python",
   "pygments_lexer": "ipython3",
   "version": "3.10.11"
  }
 },
 "nbformat": 4,
 "nbformat_minor": 5
}
