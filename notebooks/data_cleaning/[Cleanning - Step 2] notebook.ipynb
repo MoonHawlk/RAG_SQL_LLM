{
 "cells": [
  {
   "cell_type": "markdown",
   "id": "5e6679a9",
   "metadata": {},
   "source": [
    "# Purpose\n",
    "\n",
    "- Choose and clear the data to be used on the RAG pipeline"
   ]
  },
  {
   "cell_type": "code",
   "execution_count": 2,
   "id": "ef2e691f",
   "metadata": {},
   "outputs": [],
   "source": [
    "import pandas as pd"
   ]
  },
  {
   "cell_type": "markdown",
   "id": "000b4683",
   "metadata": {},
   "source": [
    "# Define Constant Variables\n",
    "\n",
    "- SOURCE_PATH -> Refering to the file to process\n",
    "- TARGET_PATH -> Refering to the saving file"
   ]
  },
  {
   "cell_type": "code",
   "execution_count": 3,
   "id": "2effbe6d",
   "metadata": {},
   "outputs": [],
   "source": [
    "SOURCE_PATH = \"../../data/processed/train.csv\"\n",
    "TARGET_PATH = \"../../data/ready/train.csv\""
   ]
  },
  {
   "cell_type": "markdown",
   "id": "d0d12d9d",
   "metadata": {},
   "source": [
    "# Key functions"
   ]
  },
  {
   "cell_type": "code",
   "execution_count": 4,
   "id": "a715eeb7",
   "metadata": {},
   "outputs": [],
   "source": [
    "def csv_to_dataframe(path_csv: str) -> pd.DataFrame:\n",
    "    \n",
    "    df = pd.read_csv(path_csv)\n",
    "    return df\n",
    "\n",
    "def save_dataframe_csv(df: pd.DataFrame, path_csv: str):\n",
    "    df.to_csv(path_csv, index=False)\n",
    "    print(f\"[OK] CSV salvo em {path_csv}\")"
   ]
  },
  {
   "cell_type": "code",
   "execution_count": 8,
   "id": "75d599e9",
   "metadata": {},
   "outputs": [],
   "source": [
    "def extract_key_features(df: pd.DataFrame) -> pd.DataFrame:\n",
    "    \"\"\"\n",
    "    Return a new DF with the key features:\n",
    "      - REF_DATE\n",
    "      - TARGET\n",
    "      - VAR2\n",
    "      - IDADE\n",
    "      - VAR4\n",
    "      - VAR5\n",
    "      - VAR8\n",
    "    \"\"\"\n",
    "    cols = [\"REF_DATE\", \"TARGET\", \"VAR2\", \"IDADE\", \"VAR4\", \"VAR5\", \"VAR8\"]\n",
    "    \n",
    "    # Quick validation\n",
    "    missing = [c for c in cols if c not in df.columns]\n",
    "    if missing:\n",
    "        raise KeyError(f\"As colunas a seguir não foram encontradas no DataFrame: {missing}\")\n",
    "    return df[cols].copy()"
   ]
  },
  {
   "cell_type": "code",
   "execution_count": 5,
   "id": "545ed8cc",
   "metadata": {},
   "outputs": [],
   "source": [
    "df = csv_to_dataframe(SOURCE_PATH)"
   ]
  },
  {
   "cell_type": "markdown",
   "id": "ac0fd506",
   "metadata": {},
   "source": [
    "## Recap of Data"
   ]
  },
  {
   "cell_type": "markdown",
   "id": "86e7ce6d",
   "metadata": {},
   "source": [
    "### Simple Visualization"
   ]
  },
  {
   "cell_type": "code",
   "execution_count": 6,
   "id": "4842a8d8",
   "metadata": {},
   "outputs": [
    {
     "data": {
      "application/vnd.microsoft.datawrangler.viewer.v0+json": {
       "columns": [
        {
         "name": "index",
         "rawType": "int64",
         "type": "integer"
        },
        {
         "name": "REF_DATE",
         "rawType": "object",
         "type": "string"
        },
        {
         "name": "TARGET",
         "rawType": "int64",
         "type": "integer"
        },
        {
         "name": "VAR2",
         "rawType": "object",
         "type": "string"
        },
        {
         "name": "IDADE",
         "rawType": "float64",
         "type": "float"
        },
        {
         "name": "VAR4",
         "rawType": "object",
         "type": "unknown"
        },
        {
         "name": "VAR5",
         "rawType": "object",
         "type": "string"
        },
        {
         "name": "VAR6",
         "rawType": "float64",
         "type": "float"
        },
        {
         "name": "VAR7",
         "rawType": "float64",
         "type": "float"
        },
        {
         "name": "VAR8",
         "rawType": "object",
         "type": "unknown"
        },
        {
         "name": "VAR9",
         "rawType": "object",
         "type": "string"
        },
        {
         "name": "VAR10",
         "rawType": "object",
         "type": "string"
        },
        {
         "name": "VAR11",
         "rawType": "float64",
         "type": "float"
        },
        {
         "name": "VAR12",
         "rawType": "float64",
         "type": "float"
        },
        {
         "name": "VAR13",
         "rawType": "float64",
         "type": "float"
        },
        {
         "name": "VAR14",
         "rawType": "float64",
         "type": "float"
        },
        {
         "name": "VAR15",
         "rawType": "float64",
         "type": "float"
        },
        {
         "name": "VAR16",
         "rawType": "float64",
         "type": "float"
        },
        {
         "name": "VAR17",
         "rawType": "float64",
         "type": "float"
        },
        {
         "name": "VAR18",
         "rawType": "float64",
         "type": "float"
        },
        {
         "name": "VAR19",
         "rawType": "float64",
         "type": "float"
        },
        {
         "name": "VAR20",
         "rawType": "float64",
         "type": "float"
        },
        {
         "name": "VAR21",
         "rawType": "float64",
         "type": "float"
        },
        {
         "name": "VAR22",
         "rawType": "float64",
         "type": "float"
        },
        {
         "name": "VAR23",
         "rawType": "float64",
         "type": "float"
        },
        {
         "name": "VAR24",
         "rawType": "float64",
         "type": "float"
        },
        {
         "name": "VAR25",
         "rawType": "float64",
         "type": "float"
        },
        {
         "name": "VAR26",
         "rawType": "float64",
         "type": "float"
        },
        {
         "name": "VAR27",
         "rawType": "float64",
         "type": "float"
        },
        {
         "name": "VAR28",
         "rawType": "float64",
         "type": "float"
        },
        {
         "name": "VAR29",
         "rawType": "float64",
         "type": "float"
        },
        {
         "name": "VAR30",
         "rawType": "float64",
         "type": "float"
        },
        {
         "name": "VAR31",
         "rawType": "object",
         "type": "unknown"
        },
        {
         "name": "VAR32",
         "rawType": "object",
         "type": "unknown"
        },
        {
         "name": "VAR33",
         "rawType": "object",
         "type": "unknown"
        },
        {
         "name": "VAR34",
         "rawType": "object",
         "type": "unknown"
        },
        {
         "name": "VAR35",
         "rawType": "object",
         "type": "unknown"
        },
        {
         "name": "VAR36",
         "rawType": "object",
         "type": "unknown"
        },
        {
         "name": "VAR37",
         "rawType": "float64",
         "type": "float"
        },
        {
         "name": "VAR38",
         "rawType": "object",
         "type": "unknown"
        },
        {
         "name": "VAR39",
         "rawType": "float64",
         "type": "float"
        },
        {
         "name": "VAR40",
         "rawType": "float64",
         "type": "float"
        },
        {
         "name": "VAR41",
         "rawType": "float64",
         "type": "float"
        },
        {
         "name": "VAR42",
         "rawType": "float64",
         "type": "float"
        },
        {
         "name": "VAR43",
         "rawType": "object",
         "type": "unknown"
        },
        {
         "name": "VAR44",
         "rawType": "float64",
         "type": "float"
        },
        {
         "name": "VAR45",
         "rawType": "object",
         "type": "unknown"
        },
        {
         "name": "VAR46",
         "rawType": "float64",
         "type": "float"
        },
        {
         "name": "VAR47",
         "rawType": "float64",
         "type": "float"
        },
        {
         "name": "VAR48",
         "rawType": "object",
         "type": "unknown"
        },
        {
         "name": "VAR49",
         "rawType": "object",
         "type": "string"
        },
        {
         "name": "VAR50",
         "rawType": "object",
         "type": "string"
        },
        {
         "name": "VAR51",
         "rawType": "object",
         "type": "string"
        },
        {
         "name": "VAR52",
         "rawType": "object",
         "type": "string"
        },
        {
         "name": "VAR53",
         "rawType": "object",
         "type": "string"
        },
        {
         "name": "VAR54",
         "rawType": "object",
         "type": "string"
        },
        {
         "name": "VAR55",
         "rawType": "object",
         "type": "string"
        },
        {
         "name": "VAR56",
         "rawType": "object",
         "type": "string"
        },
        {
         "name": "VAR57",
         "rawType": "object",
         "type": "string"
        },
        {
         "name": "VAR58",
         "rawType": "object",
         "type": "string"
        },
        {
         "name": "VAR59",
         "rawType": "object",
         "type": "string"
        },
        {
         "name": "VAR60",
         "rawType": "object",
         "type": "string"
        },
        {
         "name": "VAR61",
         "rawType": "object",
         "type": "string"
        },
        {
         "name": "VAR62",
         "rawType": "object",
         "type": "string"
        },
        {
         "name": "VAR63",
         "rawType": "object",
         "type": "string"
        },
        {
         "name": "VAR64",
         "rawType": "object",
         "type": "string"
        },
        {
         "name": "VAR65",
         "rawType": "object",
         "type": "string"
        },
        {
         "name": "VAR66",
         "rawType": "object",
         "type": "string"
        },
        {
         "name": "VAR67",
         "rawType": "object",
         "type": "string"
        },
        {
         "name": "VAR68",
         "rawType": "object",
         "type": "string"
        },
        {
         "name": "VAR69",
         "rawType": "object",
         "type": "string"
        },
        {
         "name": "VAR70",
         "rawType": "object",
         "type": "string"
        },
        {
         "name": "VAR71",
         "rawType": "object",
         "type": "string"
        },
        {
         "name": "VAR72",
         "rawType": "object",
         "type": "string"
        },
        {
         "name": "VAR73",
         "rawType": "object",
         "type": "string"
        },
        {
         "name": "VAR74",
         "rawType": "object",
         "type": "string"
        },
        {
         "name": "VAR75",
         "rawType": "object",
         "type": "string"
        },
        {
         "name": "VAR76",
         "rawType": "object",
         "type": "string"
        },
        {
         "name": "VAR77",
         "rawType": "object",
         "type": "string"
        },
        {
         "name": "VAR78",
         "rawType": "object",
         "type": "string"
        },
        {
         "name": "VAR79",
         "rawType": "object",
         "type": "string"
        },
        {
         "name": "VAR80",
         "rawType": "object",
         "type": "string"
        },
        {
         "name": "VAR81",
         "rawType": "object",
         "type": "string"
        },
        {
         "name": "VAR82",
         "rawType": "object",
         "type": "string"
        },
        {
         "name": "VAR83",
         "rawType": "object",
         "type": "string"
        },
        {
         "name": "VAR84",
         "rawType": "object",
         "type": "string"
        },
        {
         "name": "VAR85",
         "rawType": "object",
         "type": "string"
        },
        {
         "name": "VAR86",
         "rawType": "object",
         "type": "string"
        },
        {
         "name": "VAR87",
         "rawType": "object",
         "type": "string"
        },
        {
         "name": "VAR88",
         "rawType": "object",
         "type": "string"
        },
        {
         "name": "VAR89",
         "rawType": "object",
         "type": "string"
        },
        {
         "name": "VAR90",
         "rawType": "object",
         "type": "string"
        },
        {
         "name": "VAR91",
         "rawType": "object",
         "type": "string"
        },
        {
         "name": "VAR92",
         "rawType": "object",
         "type": "string"
        },
        {
         "name": "VAR93",
         "rawType": "object",
         "type": "string"
        },
        {
         "name": "VAR94",
         "rawType": "object",
         "type": "string"
        },
        {
         "name": "VAR95",
         "rawType": "object",
         "type": "string"
        },
        {
         "name": "VAR96",
         "rawType": "object",
         "type": "string"
        },
        {
         "name": "VAR97",
         "rawType": "object",
         "type": "string"
        },
        {
         "name": "VAR98",
         "rawType": "object",
         "type": "string"
        },
        {
         "name": "VAR99",
         "rawType": "object",
         "type": "string"
        },
        {
         "name": "VAR100",
         "rawType": "object",
         "type": "string"
        },
        {
         "name": "VAR101",
         "rawType": "object",
         "type": "string"
        },
        {
         "name": "VAR102",
         "rawType": "object",
         "type": "string"
        },
        {
         "name": "VAR103",
         "rawType": "object",
         "type": "string"
        },
        {
         "name": "VAR104",
         "rawType": "object",
         "type": "string"
        },
        {
         "name": "VAR105",
         "rawType": "object",
         "type": "string"
        },
        {
         "name": "VAR106",
         "rawType": "object",
         "type": "string"
        },
        {
         "name": "VAR107",
         "rawType": "object",
         "type": "string"
        },
        {
         "name": "VAR108",
         "rawType": "object",
         "type": "string"
        },
        {
         "name": "VAR109",
         "rawType": "object",
         "type": "string"
        },
        {
         "name": "VAR110",
         "rawType": "object",
         "type": "string"
        },
        {
         "name": "VAR111",
         "rawType": "object",
         "type": "string"
        },
        {
         "name": "VAR112",
         "rawType": "object",
         "type": "string"
        },
        {
         "name": "VAR113",
         "rawType": "object",
         "type": "string"
        },
        {
         "name": "VAR114",
         "rawType": "object",
         "type": "string"
        },
        {
         "name": "VAR115",
         "rawType": "object",
         "type": "string"
        },
        {
         "name": "VAR116",
         "rawType": "object",
         "type": "string"
        },
        {
         "name": "VAR117",
         "rawType": "object",
         "type": "string"
        },
        {
         "name": "VAR118",
         "rawType": "object",
         "type": "string"
        },
        {
         "name": "VAR119",
         "rawType": "object",
         "type": "string"
        },
        {
         "name": "VAR120",
         "rawType": "object",
         "type": "string"
        },
        {
         "name": "VAR121",
         "rawType": "object",
         "type": "string"
        },
        {
         "name": "VAR122",
         "rawType": "object",
         "type": "string"
        },
        {
         "name": "VAR123",
         "rawType": "object",
         "type": "string"
        },
        {
         "name": "VAR124",
         "rawType": "object",
         "type": "string"
        },
        {
         "name": "VAR125",
         "rawType": "object",
         "type": "string"
        },
        {
         "name": "VAR126",
         "rawType": "object",
         "type": "string"
        },
        {
         "name": "VAR127",
         "rawType": "object",
         "type": "string"
        },
        {
         "name": "VAR128",
         "rawType": "object",
         "type": "string"
        },
        {
         "name": "VAR129",
         "rawType": "object",
         "type": "string"
        },
        {
         "name": "VAR130",
         "rawType": "object",
         "type": "string"
        },
        {
         "name": "VAR131",
         "rawType": "object",
         "type": "string"
        },
        {
         "name": "VAR132",
         "rawType": "object",
         "type": "string"
        },
        {
         "name": "VAR133",
         "rawType": "object",
         "type": "string"
        },
        {
         "name": "VAR134",
         "rawType": "object",
         "type": "string"
        },
        {
         "name": "VAR135",
         "rawType": "object",
         "type": "string"
        },
        {
         "name": "VAR136",
         "rawType": "object",
         "type": "string"
        },
        {
         "name": "VAR137",
         "rawType": "object",
         "type": "string"
        },
        {
         "name": "VAR138",
         "rawType": "object",
         "type": "string"
        },
        {
         "name": "VAR139",
         "rawType": "object",
         "type": "string"
        },
        {
         "name": "VAR140",
         "rawType": "object",
         "type": "string"
        },
        {
         "name": "VAR141",
         "rawType": "float64",
         "type": "float"
        },
        {
         "name": "VAR142",
         "rawType": "object",
         "type": "string"
        },
        {
         "name": "VAR143",
         "rawType": "object",
         "type": "unknown"
        },
        {
         "name": "VAR144",
         "rawType": "object",
         "type": "unknown"
        },
        {
         "name": "VAR145",
         "rawType": "float64",
         "type": "float"
        },
        {
         "name": "VAR146",
         "rawType": "float64",
         "type": "float"
        },
        {
         "name": "VAR147",
         "rawType": "int64",
         "type": "integer"
        },
        {
         "name": "VAR148",
         "rawType": "object",
         "type": "string"
        },
        {
         "name": "VAR149",
         "rawType": "object",
         "type": "string"
        },
        {
         "name": "ID",
         "rawType": "int64",
         "type": "integer"
        }
       ],
       "ref": "42c0cbea-68b6-4b68-b33f-f2a8e7aad30d",
       "rows": [
        [
         "0",
         "2017-06-01 00:00:00+00:00",
         "0",
         "M",
         "34.137",
         null,
         "RO",
         "-8.808779300000003",
         "-63.8784696",
         "D",
         "E",
         "BAIXA",
         "1.0",
         "0.182",
         null,
         "0.141",
         null,
         "0.416667",
         null,
         "1.263014",
         null,
         null,
         null,
         null,
         null,
         "0.034",
         null,
         null,
         null,
         "0.0",
         null,
         "0.125",
         null,
         null,
         null,
         null,
         null,
         null,
         null,
         null,
         "0.5123340000000001",
         "0.486768",
         "0.357526",
         "0.538737",
         null,
         null,
         null,
         null,
         "0.046",
         null,
         "S",
         "N",
         "N",
         "N",
         "N",
         "N",
         "N",
         "N",
         "N",
         "N",
         "N",
         "N",
         "S",
         "N",
         "N",
         "N",
         "N",
         "MEDIA",
         "BAIXISSIMA",
         "ALTA",
         "BAIXISSIMA",
         "ALTA",
         "ALTISSIMA",
         "BAIXISSIMA",
         "BAIXISSIMA",
         "ALTA",
         "ALTA",
         "ALTA",
         "MEDIA",
         "ALTA",
         "ALTA",
         "ALTA",
         "ALTISSIMA",
         "ALTA",
         "MEDIA",
         "ALTA",
         "MEDIA",
         "ALTA",
         "ALTISSIMA",
         "ALTISSIMA",
         "MEDIA",
         "BAIXISSIMA",
         "ALTISSIMA",
         "MEDIA",
         "BAIXISSIMA",
         "ALTA",
         "BAIXISSIMA",
         "ALTA",
         "MEDIA",
         "MEDIA",
         "ALTA",
         "BAIXISSIMA",
         "ALTA",
         "LONGE",
         "LONGE",
         "LONGE",
         "PROXIMO",
         "MEDIO",
         "LONGE",
         "MEDIO",
         "LONGE",
         "LONGE",
         "LONGE",
         "MEDIO",
         "LONGE",
         "PROXIMO",
         "MEDIO",
         "MEDIO",
         "LONGE",
         "PROXIMO",
         "MEDIO",
         "PROXIMO",
         "MUITO LONGE",
         "LONGE",
         "PROXIMO",
         "MEDIO",
         "PROXIMO",
         "LONGE",
         "MUITO LONGE",
         "MEDIO",
         "LONGE",
         "LONGE",
         "MEDIO",
         "LONGE",
         "MUITO LONGE",
         "LONGE",
         "MEDIO",
         "MUITO LONGE",
         "LONGE",
         "LONGE",
         "MEDIO",
         "LONGE",
         "2680.289259",
         "D",
         null,
         null,
         null,
         null,
         "102",
         "EMAIL INEXISTENTE#@#NOME INEXISTENTE#@#CEP INEXISTENTE",
         "2.6.1",
         "181755"
        ],
        [
         "1",
         "2017-08-18 00:00:00+00:00",
         "0",
         "M",
         "40.447",
         null,
         "PB",
         "-7.146537",
         "-34.926080299999995",
         "E",
         "E",
         "MEDIA",
         "0.0",
         null,
         null,
         "0.136",
         "0.127",
         null,
         null,
         "0.654795",
         "1.545205",
         null,
         null,
         "0.125",
         null,
         "0.017",
         "0.0",
         null,
         null,
         null,
         null,
         null,
         null,
         null,
         null,
         null,
         null,
         null,
         null,
         null,
         "0.328021",
         "0.447454",
         "0.414335",
         "0.485512",
         null,
         null,
         null,
         null,
         "0.099",
         null,
         "S",
         "N",
         "N",
         "N",
         "N",
         "N",
         "N",
         "N",
         "N",
         "N",
         "N",
         "N",
         "N",
         "N",
         "N",
         "N",
         "N",
         "ALTA",
         "ALTISSIMA",
         "ALTA",
         "BAIXISSIMA",
         "ALTA",
         "ALTISSIMA",
         "ALTA",
         "MEDIA",
         "ALTA",
         "MEDIA",
         "ALTISSIMA",
         "MEDIA",
         "MEDIA",
         "ALTA",
         "BAIXISSIMA",
         "ALTA",
         "ALTA",
         "MEDIA",
         "ALTISSIMA",
         "ALTA",
         "ALTA",
         "ALTA",
         "ALTA",
         "MEDIA",
         "BAIXISSIMA",
         "ALTISSIMA",
         "MEDIA",
         "ALTA",
         "ALTISSIMA",
         "ALTA",
         "ALTISSIMA",
         "ALTA",
         "ALTA",
         "ALTISSIMA",
         "ALTISSIMA",
         "MEDIA",
         "MEDIO",
         "LONGE",
         "MEDIO",
         "MUITO LONGE",
         "PROXIMO",
         "MEDIO",
         "PROXIMO",
         "MEDIO",
         "MEDIO",
         "MEDIO",
         "LONGE",
         "LONGE",
         "LONGE",
         "LONGE",
         "PROXIMO",
         "LONGE",
         "PROXIMO",
         "PROXIMO",
         "MUITO LONGE",
         "MEDIO",
         "MEDIO",
         "PROXIMO",
         "PROXIMO",
         "PROXIMO",
         "LONGE",
         "MEDIO",
         "PROXIMO",
         "LONGE",
         "MEDIO",
         "MEDIO",
         "MEDIO",
         "LONGE",
         "MEDIO",
         "PROXIMO",
         "PROXIMO",
         "LONGE",
         "LONGE",
         "LONGE",
         "MUITO LONGE",
         "1777.7254690000002",
         "E",
         null,
         null,
         null,
         null,
         "102",
         "EMAIL INEXISTENTE#@#NOME INEXISTENTE#@#CEP INEXISTENTE",
         "2.6.1",
         "287633"
        ],
        [
         "2",
         "2017-06-30 00:00:00+00:00",
         "0",
         "F",
         "33.515",
         null,
         "RS",
         "-27.9001784",
         "-53.3140353",
         null,
         "E",
         "ALTISSIMA",
         null,
         "0.095",
         null,
         "0.152",
         null,
         "0.166667",
         null,
         "1.6657529999999998",
         null,
         null,
         null,
         null,
         null,
         "0.0",
         null,
         null,
         null,
         null,
         null,
         null,
         null,
         null,
         null,
         null,
         "S",
         "S",
         "124.0",
         null,
         "0.627262",
         "0.730539",
         "0.916771",
         "0.519726",
         null,
         null,
         null,
         null,
         "1.0",
         null,
         "S",
         "N",
         "N",
         "N",
         "N",
         "N",
         "N",
         "S",
         "N",
         "N",
         "N",
         "N",
         "N",
         "N",
         "S",
         "N",
         "N",
         "BAIXISSIMA",
         "BAIXISSIMA",
         "BAIXISSIMA",
         "ALTA",
         "BAIXISSIMA",
         "BAIXISSIMA",
         "BAIXISSIMA",
         "BAIXISSIMA",
         "BAIXISSIMA",
         "BAIXISSIMA",
         "BAIXISSIMA",
         "BAIXISSIMA",
         "BAIXISSIMA",
         "BAIXISSIMA",
         "BAIXISSIMA",
         "MEDIA",
         "BAIXISSIMA",
         "BAIXISSIMA",
         "BAIXISSIMA",
         "BAIXISSIMA",
         "BAIXISSIMA",
         "BAIXISSIMA",
         "BAIXISSIMA",
         "BAIXISSIMA",
         "BAIXISSIMA",
         "BAIXISSIMA",
         "BAIXISSIMA",
         "BAIXISSIMA",
         "BAIXISSIMA",
         "BAIXISSIMA",
         "BAIXISSIMA",
         "BAIXISSIMA",
         "BAIXISSIMA",
         "BAIXISSIMA",
         "BAIXISSIMA",
         "MEDIA",
         "LONGE",
         "MUITO LONGE",
         "LONGE",
         "MUITO LONGE",
         "MUITO LONGE",
         "MUITO LONGE",
         "MUITO LONGE",
         "LONGE",
         "LONGE",
         "MUITO LONGE",
         "MUITO LONGE",
         "MUITO LONGE",
         "LONGE",
         "LONGE",
         "MUITO LONGE",
         "LONGE",
         "MUITO LONGE",
         "LONGE",
         "PROXIMO",
         "MUITO LONGE",
         "LONGE",
         "MUITO LONGE",
         "MUITO LONGE",
         "MUITO LONGE",
         "MUITO LONGE",
         "MUITO LONGE",
         "MUITO LONGE",
         "MUITO LONGE",
         "MUITO LONGE",
         "MUITO LONGE",
         "MUITO LONGE",
         "MUITO LONGE",
         "LONGE",
         "MUITO LONGE",
         "LONGE",
         "LONGE",
         "MUITO LONGE",
         "LONGE",
         "MUITO PROXIMO",
         "1695.4949789999996",
         "E",
         null,
         null,
         null,
         null,
         "102",
         "EMAIL INEXISTENTE#@#NOME INEXISTENTE#@#CEP INEXISTENTE",
         "2.6.1",
         "88015"
        ],
        [
         "3",
         "2017-08-05 00:00:00+00:00",
         "1",
         "F",
         "25.797",
         null,
         "BA",
         "-12.9488741",
         "-38.4518629",
         "E",
         "E",
         "MEDIA",
         "0.0",
         "0.359",
         null,
         "0.014",
         null,
         null,
         null,
         "0.619178",
         null,
         null,
         null,
         null,
         null,
         "0.0",
         null,
         null,
         null,
         null,
         null,
         null,
         null,
         null,
         null,
         null,
         "S",
         "S",
         "112.0",
         null,
         "0.338643",
         "0.405233",
         "0.408007",
         "0.56771",
         null,
         null,
         null,
         null,
         "0.0",
         null,
         "S",
         "S",
         "N",
         "N",
         "N",
         "N",
         "S",
         "S",
         "N",
         "N",
         "N",
         "N",
         "N",
         "N",
         "N",
         "N",
         "N",
         "ALTISSIMA",
         "ALTA",
         "ALTISSIMA",
         "ALTA",
         "ALTISSIMA",
         "ALTA",
         "ALTISSIMA",
         "ALTISSIMA",
         "ALTISSIMA",
         "ALTISSIMA",
         "ALTISSIMA",
         "ALTISSIMA",
         "ALTISSIMA",
         "ALTISSIMA",
         "ALTISSIMA",
         "ALTISSIMA",
         "ALTISSIMA",
         "ALTISSIMA",
         "ALTISSIMA",
         "ALTISSIMA",
         "ALTISSIMA",
         "ALTA",
         "ALTISSIMA",
         "ALTISSIMA",
         "ALTISSIMA",
         "ALTISSIMA",
         "ALTISSIMA",
         "ALTISSIMA",
         "ALTISSIMA",
         "ALTA",
         "ALTISSIMA",
         "ALTA",
         "ALTISSIMA",
         "ALTISSIMA",
         "ALTISSIMA",
         "ALTISSIMA",
         "PROXIMO",
         "MEDIO",
         "MEDIO",
         "MUITO PROXIMO",
         "PROXIMO",
         "MEDIO",
         "PROXIMO",
         "LONGE",
         "LONGE",
         "MEDIO",
         "MEDIO",
         "LONGE",
         "MEDIO",
         "PROXIMO",
         "LONGE",
         "MEDIO",
         "MUITO PROXIMO",
         "PROXIMO",
         "MUITO LONGE",
         "PROXIMO",
         "MUITO PROXIMO",
         "MEDIO",
         "LONGE",
         "LONGE",
         "MEDIO",
         "PROXIMO",
         "LONGE",
         "MEDIO",
         "MEDIO",
         "MEDIO",
         "LONGE",
         "LONGE",
         "MEDIO",
         "MEDIO",
         "PROXIMO",
         "MEDIO",
         "LONGE",
         "MEDIO",
         "MEDIO",
         "1399.037809",
         "E",
         null,
         null,
         null,
         null,
         "102",
         "EMAIL INEXISTENTE#@#NOME INEXISTENTE#@#CEP INEXISTENTE",
         "2.6.1",
         "122576"
        ],
        [
         "4",
         "2017-07-29 00:00:00+00:00",
         "0",
         "F",
         "54.074",
         null,
         "RS",
         "-30.0518104",
         "-51.21327700000001",
         "B",
         "E",
         "MEDIA",
         "3.0",
         "0.736",
         null,
         "0.207",
         "0.181",
         "3.5",
         null,
         "2.090411",
         "2.090411",
         null,
         null,
         "0.25",
         null,
         "0.0",
         "0.032",
         null,
         null,
         null,
         null,
         null,
         null,
         null,
         null,
         null,
         null,
         null,
         null,
         null,
         "0.626047",
         "0.770664",
         "0.907036",
         "0.538496",
         null,
         null,
         null,
         null,
         "0.017",
         null,
         "S",
         "S",
         "N",
         "N",
         "N",
         "N",
         "N",
         "N",
         "N",
         "N",
         "N",
         "N",
         "N",
         "N",
         "N",
         "N",
         "S",
         "ALTISSIMA",
         "BAIXISSIMA",
         "ALTISSIMA",
         "ALTISSIMA",
         "ALTISSIMA",
         "ALTISSIMA",
         "ALTISSIMA",
         "ALTISSIMA",
         "ALTISSIMA",
         "ALTISSIMA",
         "ALTISSIMA",
         "ALTISSIMA",
         "ALTISSIMA",
         "ALTISSIMA",
         "ALTISSIMA",
         "ALTISSIMA",
         "ALTISSIMA",
         "ALTISSIMA",
         "ALTISSIMA",
         "ALTISSIMA",
         "ALTISSIMA",
         "ALTISSIMA",
         "ALTISSIMA",
         "ALTISSIMA",
         "ALTISSIMA",
         "ALTA",
         "ALTISSIMA",
         "ALTISSIMA",
         "ALTISSIMA",
         "ALTISSIMA",
         "ALTISSIMA",
         "ALTISSIMA",
         "ALTISSIMA",
         "ALTISSIMA",
         "BAIXISSIMA",
         "ALTISSIMA",
         "PROXIMO",
         "PROXIMO",
         "PROXIMO",
         "PROXIMO",
         "PROXIMO",
         "LONGE",
         "MEDIO",
         "MUITO PROXIMO",
         "MEDIO",
         "PROXIMO",
         "MEDIO",
         "PROXIMO",
         "PROXIMO",
         "PROXIMO",
         "LONGE",
         "PROXIMO",
         "MEDIO",
         "PROXIMO",
         "MUITO LONGE",
         "PROXIMO",
         "PROXIMO",
         "MEDIO",
         "PROXIMO",
         "PROXIMO",
         "PROXIMO",
         "PROXIMO",
         "MEDIO",
         "MEDIO",
         "PROXIMO",
         "PROXIMO",
         "MEDIO",
         "PROXIMO",
         "PROXIMO",
         "MUITO PROXIMO",
         "MEDIO",
         "PROXIMO",
         "MUITO PROXIMO",
         "PROXIMO",
         "MUITO PROXIMO",
         "7868.793295999999",
         "C",
         null,
         null,
         null,
         null,
         "102",
         "EMAIL INEXISTENTE",
         "2.6.1",
         "1272"
        ]
       ],
       "shape": {
        "columns": 151,
        "rows": 5
       }
      },
      "text/html": [
       "<div>\n",
       "<style scoped>\n",
       "    .dataframe tbody tr th:only-of-type {\n",
       "        vertical-align: middle;\n",
       "    }\n",
       "\n",
       "    .dataframe tbody tr th {\n",
       "        vertical-align: top;\n",
       "    }\n",
       "\n",
       "    .dataframe thead th {\n",
       "        text-align: right;\n",
       "    }\n",
       "</style>\n",
       "<table border=\"1\" class=\"dataframe\">\n",
       "  <thead>\n",
       "    <tr style=\"text-align: right;\">\n",
       "      <th></th>\n",
       "      <th>REF_DATE</th>\n",
       "      <th>TARGET</th>\n",
       "      <th>VAR2</th>\n",
       "      <th>IDADE</th>\n",
       "      <th>VAR4</th>\n",
       "      <th>VAR5</th>\n",
       "      <th>VAR6</th>\n",
       "      <th>VAR7</th>\n",
       "      <th>VAR8</th>\n",
       "      <th>VAR9</th>\n",
       "      <th>...</th>\n",
       "      <th>VAR141</th>\n",
       "      <th>VAR142</th>\n",
       "      <th>VAR143</th>\n",
       "      <th>VAR144</th>\n",
       "      <th>VAR145</th>\n",
       "      <th>VAR146</th>\n",
       "      <th>VAR147</th>\n",
       "      <th>VAR148</th>\n",
       "      <th>VAR149</th>\n",
       "      <th>ID</th>\n",
       "    </tr>\n",
       "  </thead>\n",
       "  <tbody>\n",
       "    <tr>\n",
       "      <th>0</th>\n",
       "      <td>2017-06-01 00:00:00+00:00</td>\n",
       "      <td>0</td>\n",
       "      <td>M</td>\n",
       "      <td>34.137</td>\n",
       "      <td>NaN</td>\n",
       "      <td>RO</td>\n",
       "      <td>-8.808779</td>\n",
       "      <td>-63.878470</td>\n",
       "      <td>D</td>\n",
       "      <td>E</td>\n",
       "      <td>...</td>\n",
       "      <td>2680.289259</td>\n",
       "      <td>D</td>\n",
       "      <td>NaN</td>\n",
       "      <td>NaN</td>\n",
       "      <td>NaN</td>\n",
       "      <td>NaN</td>\n",
       "      <td>102</td>\n",
       "      <td>EMAIL INEXISTENTE#@#NOME INEXISTENTE#@#CEP INE...</td>\n",
       "      <td>2.6.1</td>\n",
       "      <td>181755</td>\n",
       "    </tr>\n",
       "    <tr>\n",
       "      <th>1</th>\n",
       "      <td>2017-08-18 00:00:00+00:00</td>\n",
       "      <td>0</td>\n",
       "      <td>M</td>\n",
       "      <td>40.447</td>\n",
       "      <td>NaN</td>\n",
       "      <td>PB</td>\n",
       "      <td>-7.146537</td>\n",
       "      <td>-34.926080</td>\n",
       "      <td>E</td>\n",
       "      <td>E</td>\n",
       "      <td>...</td>\n",
       "      <td>1777.725469</td>\n",
       "      <td>E</td>\n",
       "      <td>NaN</td>\n",
       "      <td>NaN</td>\n",
       "      <td>NaN</td>\n",
       "      <td>NaN</td>\n",
       "      <td>102</td>\n",
       "      <td>EMAIL INEXISTENTE#@#NOME INEXISTENTE#@#CEP INE...</td>\n",
       "      <td>2.6.1</td>\n",
       "      <td>287633</td>\n",
       "    </tr>\n",
       "    <tr>\n",
       "      <th>2</th>\n",
       "      <td>2017-06-30 00:00:00+00:00</td>\n",
       "      <td>0</td>\n",
       "      <td>F</td>\n",
       "      <td>33.515</td>\n",
       "      <td>NaN</td>\n",
       "      <td>RS</td>\n",
       "      <td>-27.900178</td>\n",
       "      <td>-53.314035</td>\n",
       "      <td>NaN</td>\n",
       "      <td>E</td>\n",
       "      <td>...</td>\n",
       "      <td>1695.494979</td>\n",
       "      <td>E</td>\n",
       "      <td>NaN</td>\n",
       "      <td>NaN</td>\n",
       "      <td>NaN</td>\n",
       "      <td>NaN</td>\n",
       "      <td>102</td>\n",
       "      <td>EMAIL INEXISTENTE#@#NOME INEXISTENTE#@#CEP INE...</td>\n",
       "      <td>2.6.1</td>\n",
       "      <td>88015</td>\n",
       "    </tr>\n",
       "    <tr>\n",
       "      <th>3</th>\n",
       "      <td>2017-08-05 00:00:00+00:00</td>\n",
       "      <td>1</td>\n",
       "      <td>F</td>\n",
       "      <td>25.797</td>\n",
       "      <td>NaN</td>\n",
       "      <td>BA</td>\n",
       "      <td>-12.948874</td>\n",
       "      <td>-38.451863</td>\n",
       "      <td>E</td>\n",
       "      <td>E</td>\n",
       "      <td>...</td>\n",
       "      <td>1399.037809</td>\n",
       "      <td>E</td>\n",
       "      <td>NaN</td>\n",
       "      <td>NaN</td>\n",
       "      <td>NaN</td>\n",
       "      <td>NaN</td>\n",
       "      <td>102</td>\n",
       "      <td>EMAIL INEXISTENTE#@#NOME INEXISTENTE#@#CEP INE...</td>\n",
       "      <td>2.6.1</td>\n",
       "      <td>122576</td>\n",
       "    </tr>\n",
       "    <tr>\n",
       "      <th>4</th>\n",
       "      <td>2017-07-29 00:00:00+00:00</td>\n",
       "      <td>0</td>\n",
       "      <td>F</td>\n",
       "      <td>54.074</td>\n",
       "      <td>NaN</td>\n",
       "      <td>RS</td>\n",
       "      <td>-30.051810</td>\n",
       "      <td>-51.213277</td>\n",
       "      <td>B</td>\n",
       "      <td>E</td>\n",
       "      <td>...</td>\n",
       "      <td>7868.793296</td>\n",
       "      <td>C</td>\n",
       "      <td>NaN</td>\n",
       "      <td>NaN</td>\n",
       "      <td>NaN</td>\n",
       "      <td>NaN</td>\n",
       "      <td>102</td>\n",
       "      <td>EMAIL INEXISTENTE</td>\n",
       "      <td>2.6.1</td>\n",
       "      <td>1272</td>\n",
       "    </tr>\n",
       "  </tbody>\n",
       "</table>\n",
       "<p>5 rows × 151 columns</p>\n",
       "</div>"
      ],
      "text/plain": [
       "                    REF_DATE  TARGET VAR2   IDADE VAR4 VAR5       VAR6  \\\n",
       "0  2017-06-01 00:00:00+00:00       0    M  34.137  NaN   RO  -8.808779   \n",
       "1  2017-08-18 00:00:00+00:00       0    M  40.447  NaN   PB  -7.146537   \n",
       "2  2017-06-30 00:00:00+00:00       0    F  33.515  NaN   RS -27.900178   \n",
       "3  2017-08-05 00:00:00+00:00       1    F  25.797  NaN   BA -12.948874   \n",
       "4  2017-07-29 00:00:00+00:00       0    F  54.074  NaN   RS -30.051810   \n",
       "\n",
       "        VAR7 VAR8 VAR9  ...       VAR141  VAR142  VAR143  VAR144  VAR145  \\\n",
       "0 -63.878470    D    E  ...  2680.289259       D     NaN     NaN     NaN   \n",
       "1 -34.926080    E    E  ...  1777.725469       E     NaN     NaN     NaN   \n",
       "2 -53.314035  NaN    E  ...  1695.494979       E     NaN     NaN     NaN   \n",
       "3 -38.451863    E    E  ...  1399.037809       E     NaN     NaN     NaN   \n",
       "4 -51.213277    B    E  ...  7868.793296       C     NaN     NaN     NaN   \n",
       "\n",
       "   VAR146  VAR147                                             VAR148  VAR149  \\\n",
       "0     NaN     102  EMAIL INEXISTENTE#@#NOME INEXISTENTE#@#CEP INE...   2.6.1   \n",
       "1     NaN     102  EMAIL INEXISTENTE#@#NOME INEXISTENTE#@#CEP INE...   2.6.1   \n",
       "2     NaN     102  EMAIL INEXISTENTE#@#NOME INEXISTENTE#@#CEP INE...   2.6.1   \n",
       "3     NaN     102  EMAIL INEXISTENTE#@#NOME INEXISTENTE#@#CEP INE...   2.6.1   \n",
       "4     NaN     102                                  EMAIL INEXISTENTE   2.6.1   \n",
       "\n",
       "       ID  \n",
       "0  181755  \n",
       "1  287633  \n",
       "2   88015  \n",
       "3  122576  \n",
       "4    1272  \n",
       "\n",
       "[5 rows x 151 columns]"
      ]
     },
     "execution_count": 6,
     "metadata": {},
     "output_type": "execute_result"
    }
   ],
   "source": [
    "df.head()"
   ]
  },
  {
   "cell_type": "code",
   "execution_count": 19,
   "id": "99cddbf7",
   "metadata": {},
   "outputs": [
    {
     "data": {
      "text/plain": [
       "(120750, 151)"
      ]
     },
     "execution_count": 19,
     "metadata": {},
     "output_type": "execute_result"
    }
   ],
   "source": [
    "df.shape"
   ]
  },
  {
   "cell_type": "code",
   "execution_count": 20,
   "id": "27aaf02d",
   "metadata": {},
   "outputs": [
    {
     "data": {
      "text/plain": [
       "Index(['REF_DATE', 'TARGET', 'VAR2', 'IDADE', 'VAR4', 'VAR5', 'VAR6', 'VAR7',\n",
       "       'VAR8', 'VAR9',\n",
       "       ...\n",
       "       'VAR141', 'VAR142', 'VAR143', 'VAR144', 'VAR145', 'VAR146', 'VAR147',\n",
       "       'VAR148', 'VAR149', 'ID'],\n",
       "      dtype='object', length=151)"
      ]
     },
     "execution_count": 20,
     "metadata": {},
     "output_type": "execute_result"
    }
   ],
   "source": [
    "df.columns"
   ]
  },
  {
   "cell_type": "code",
   "execution_count": 21,
   "id": "fc377d32",
   "metadata": {},
   "outputs": [
    {
     "data": {
      "application/vnd.microsoft.datawrangler.viewer.v0+json": {
       "columns": [
        {
         "name": "index",
         "rawType": "object",
         "type": "string"
        },
        {
         "name": "0",
         "rawType": "object",
         "type": "unknown"
        }
       ],
       "ref": "1dd27bb2-a9d8-4261-915f-a496468cb694",
       "rows": [
        [
         "REF_DATE",
         "object"
        ],
        [
         "TARGET",
         "int64"
        ],
        [
         "VAR2",
         "object"
        ],
        [
         "IDADE",
         "float64"
        ],
        [
         "VAR4",
         "object"
        ],
        [
         "VAR5",
         "object"
        ],
        [
         "VAR6",
         "float64"
        ],
        [
         "VAR7",
         "float64"
        ],
        [
         "VAR8",
         "object"
        ],
        [
         "VAR9",
         "object"
        ],
        [
         "VAR10",
         "object"
        ],
        [
         "VAR11",
         "float64"
        ],
        [
         "VAR12",
         "float64"
        ],
        [
         "VAR13",
         "float64"
        ],
        [
         "VAR14",
         "float64"
        ],
        [
         "VAR15",
         "float64"
        ],
        [
         "VAR16",
         "float64"
        ],
        [
         "VAR17",
         "float64"
        ],
        [
         "VAR18",
         "float64"
        ],
        [
         "VAR19",
         "float64"
        ],
        [
         "VAR20",
         "float64"
        ],
        [
         "VAR21",
         "float64"
        ],
        [
         "VAR22",
         "float64"
        ],
        [
         "VAR23",
         "float64"
        ],
        [
         "VAR24",
         "float64"
        ],
        [
         "VAR25",
         "float64"
        ],
        [
         "VAR26",
         "float64"
        ],
        [
         "VAR27",
         "float64"
        ],
        [
         "VAR28",
         "float64"
        ],
        [
         "VAR29",
         "float64"
        ],
        [
         "VAR30",
         "float64"
        ],
        [
         "VAR31",
         "object"
        ],
        [
         "VAR32",
         "object"
        ],
        [
         "VAR33",
         "object"
        ],
        [
         "VAR34",
         "object"
        ],
        [
         "VAR35",
         "object"
        ],
        [
         "VAR36",
         "object"
        ],
        [
         "VAR37",
         "float64"
        ],
        [
         "VAR38",
         "object"
        ],
        [
         "VAR39",
         "float64"
        ],
        [
         "VAR40",
         "float64"
        ],
        [
         "VAR41",
         "float64"
        ],
        [
         "VAR42",
         "float64"
        ],
        [
         "VAR43",
         "object"
        ],
        [
         "VAR44",
         "float64"
        ],
        [
         "VAR45",
         "object"
        ],
        [
         "VAR46",
         "float64"
        ],
        [
         "VAR47",
         "float64"
        ],
        [
         "VAR48",
         "object"
        ],
        [
         "VAR49",
         "object"
        ]
       ],
       "shape": {
        "columns": 1,
        "rows": 151
       }
      },
      "text/plain": [
       "REF_DATE     object\n",
       "TARGET        int64\n",
       "VAR2         object\n",
       "IDADE       float64\n",
       "VAR4         object\n",
       "             ...   \n",
       "VAR146      float64\n",
       "VAR147        int64\n",
       "VAR148       object\n",
       "VAR149       object\n",
       "ID            int64\n",
       "Length: 151, dtype: object"
      ]
     },
     "execution_count": 21,
     "metadata": {},
     "output_type": "execute_result"
    }
   ],
   "source": [
    "df.dtypes"
   ]
  },
  {
   "cell_type": "markdown",
   "id": "880a35e7",
   "metadata": {},
   "source": [
    "## Selection of the Key metrics\n",
    "\n",
    "- REF_DATE  (Data de referência do registro)\n",
    "- TARGET    (Alvo binário de inadimplência (1: Mau Pagador, i.e. atrado > 60 dias em 2 meses))\n",
    "- VAR2      (Sexo)\n",
    "- IDADE     (Idade do Individuo)\n",
    "- VAR4      (Flag de óbito)\n",
    "- VAR5      (Unidade Federativa (UF) brasileira)\n",
    "- VAR8      (Classe social estimada)"
   ]
  },
  {
   "cell_type": "code",
   "execution_count": 9,
   "id": "8fa3ac30",
   "metadata": {},
   "outputs": [],
   "source": [
    "filtered_df = extract_key_features(df)"
   ]
  },
  {
   "cell_type": "code",
   "execution_count": 10,
   "id": "a977d6ed",
   "metadata": {},
   "outputs": [
    {
     "data": {
      "application/vnd.microsoft.datawrangler.viewer.v0+json": {
       "columns": [
        {
         "name": "index",
         "rawType": "int64",
         "type": "integer"
        },
        {
         "name": "REF_DATE",
         "rawType": "object",
         "type": "string"
        },
        {
         "name": "TARGET",
         "rawType": "int64",
         "type": "integer"
        },
        {
         "name": "VAR2",
         "rawType": "object",
         "type": "string"
        },
        {
         "name": "IDADE",
         "rawType": "float64",
         "type": "float"
        },
        {
         "name": "VAR4",
         "rawType": "object",
         "type": "unknown"
        },
        {
         "name": "VAR5",
         "rawType": "object",
         "type": "string"
        },
        {
         "name": "VAR8",
         "rawType": "object",
         "type": "unknown"
        }
       ],
       "ref": "feed307b-eb35-4f36-b4a7-c637088f12ce",
       "rows": [
        [
         "0",
         "2017-06-01 00:00:00+00:00",
         "0",
         "M",
         "34.137",
         null,
         "RO",
         "D"
        ],
        [
         "1",
         "2017-08-18 00:00:00+00:00",
         "0",
         "M",
         "40.447",
         null,
         "PB",
         "E"
        ],
        [
         "2",
         "2017-06-30 00:00:00+00:00",
         "0",
         "F",
         "33.515",
         null,
         "RS",
         null
        ],
        [
         "3",
         "2017-08-05 00:00:00+00:00",
         "1",
         "F",
         "25.797",
         null,
         "BA",
         "E"
        ],
        [
         "4",
         "2017-07-29 00:00:00+00:00",
         "0",
         "F",
         "54.074",
         null,
         "RS",
         "B"
        ]
       ],
       "shape": {
        "columns": 7,
        "rows": 5
       }
      },
      "text/html": [
       "<div>\n",
       "<style scoped>\n",
       "    .dataframe tbody tr th:only-of-type {\n",
       "        vertical-align: middle;\n",
       "    }\n",
       "\n",
       "    .dataframe tbody tr th {\n",
       "        vertical-align: top;\n",
       "    }\n",
       "\n",
       "    .dataframe thead th {\n",
       "        text-align: right;\n",
       "    }\n",
       "</style>\n",
       "<table border=\"1\" class=\"dataframe\">\n",
       "  <thead>\n",
       "    <tr style=\"text-align: right;\">\n",
       "      <th></th>\n",
       "      <th>REF_DATE</th>\n",
       "      <th>TARGET</th>\n",
       "      <th>VAR2</th>\n",
       "      <th>IDADE</th>\n",
       "      <th>VAR4</th>\n",
       "      <th>VAR5</th>\n",
       "      <th>VAR8</th>\n",
       "    </tr>\n",
       "  </thead>\n",
       "  <tbody>\n",
       "    <tr>\n",
       "      <th>0</th>\n",
       "      <td>2017-06-01 00:00:00+00:00</td>\n",
       "      <td>0</td>\n",
       "      <td>M</td>\n",
       "      <td>34.137</td>\n",
       "      <td>NaN</td>\n",
       "      <td>RO</td>\n",
       "      <td>D</td>\n",
       "    </tr>\n",
       "    <tr>\n",
       "      <th>1</th>\n",
       "      <td>2017-08-18 00:00:00+00:00</td>\n",
       "      <td>0</td>\n",
       "      <td>M</td>\n",
       "      <td>40.447</td>\n",
       "      <td>NaN</td>\n",
       "      <td>PB</td>\n",
       "      <td>E</td>\n",
       "    </tr>\n",
       "    <tr>\n",
       "      <th>2</th>\n",
       "      <td>2017-06-30 00:00:00+00:00</td>\n",
       "      <td>0</td>\n",
       "      <td>F</td>\n",
       "      <td>33.515</td>\n",
       "      <td>NaN</td>\n",
       "      <td>RS</td>\n",
       "      <td>NaN</td>\n",
       "    </tr>\n",
       "    <tr>\n",
       "      <th>3</th>\n",
       "      <td>2017-08-05 00:00:00+00:00</td>\n",
       "      <td>1</td>\n",
       "      <td>F</td>\n",
       "      <td>25.797</td>\n",
       "      <td>NaN</td>\n",
       "      <td>BA</td>\n",
       "      <td>E</td>\n",
       "    </tr>\n",
       "    <tr>\n",
       "      <th>4</th>\n",
       "      <td>2017-07-29 00:00:00+00:00</td>\n",
       "      <td>0</td>\n",
       "      <td>F</td>\n",
       "      <td>54.074</td>\n",
       "      <td>NaN</td>\n",
       "      <td>RS</td>\n",
       "      <td>B</td>\n",
       "    </tr>\n",
       "  </tbody>\n",
       "</table>\n",
       "</div>"
      ],
      "text/plain": [
       "                    REF_DATE  TARGET VAR2   IDADE VAR4 VAR5 VAR8\n",
       "0  2017-06-01 00:00:00+00:00       0    M  34.137  NaN   RO    D\n",
       "1  2017-08-18 00:00:00+00:00       0    M  40.447  NaN   PB    E\n",
       "2  2017-06-30 00:00:00+00:00       0    F  33.515  NaN   RS  NaN\n",
       "3  2017-08-05 00:00:00+00:00       1    F  25.797  NaN   BA    E\n",
       "4  2017-07-29 00:00:00+00:00       0    F  54.074  NaN   RS    B"
      ]
     },
     "execution_count": 10,
     "metadata": {},
     "output_type": "execute_result"
    }
   ],
   "source": [
    "filtered_df.head()"
   ]
  },
  {
   "cell_type": "markdown",
   "id": "083ac144",
   "metadata": {},
   "source": [
    "The data seems fine, however, can be improvided... For example, we can remove the time line from REF_DATE, change Idade to an INT, change VAR4 to a Dead or Alive..."
   ]
  },
  {
   "cell_type": "code",
   "execution_count": 11,
   "id": "d59e01cf",
   "metadata": {},
   "outputs": [
    {
     "data": {
      "text/plain": [
       "(120750, 7)"
      ]
     },
     "execution_count": 11,
     "metadata": {},
     "output_type": "execute_result"
    }
   ],
   "source": [
    "filtered_df.shape"
   ]
  },
  {
   "cell_type": "code",
   "execution_count": 13,
   "id": "e3db1ef1",
   "metadata": {},
   "outputs": [
    {
     "data": {
      "application/vnd.microsoft.datawrangler.viewer.v0+json": {
       "columns": [
        {
         "name": "index",
         "rawType": "object",
         "type": "string"
        },
        {
         "name": "0",
         "rawType": "object",
         "type": "unknown"
        }
       ],
       "ref": "7aefe2e8-3a5b-48f3-bd6a-305c2a2580c4",
       "rows": [
        [
         "REF_DATE",
         "object"
        ],
        [
         "TARGET",
         "int64"
        ],
        [
         "VAR2",
         "object"
        ],
        [
         "IDADE",
         "float64"
        ],
        [
         "VAR4",
         "object"
        ],
        [
         "VAR5",
         "object"
        ],
        [
         "VAR8",
         "object"
        ]
       ],
       "shape": {
        "columns": 1,
        "rows": 7
       }
      },
      "text/plain": [
       "REF_DATE     object\n",
       "TARGET        int64\n",
       "VAR2         object\n",
       "IDADE       float64\n",
       "VAR4         object\n",
       "VAR5         object\n",
       "VAR8         object\n",
       "dtype: object"
      ]
     },
     "execution_count": 13,
     "metadata": {},
     "output_type": "execute_result"
    }
   ],
   "source": [
    "filtered_df.dtypes"
   ]
  },
  {
   "cell_type": "markdown",
   "id": "266623f0",
   "metadata": {},
   "source": [
    "## Correcting the Ref metric"
   ]
  },
  {
   "cell_type": "code",
   "execution_count": 18,
   "id": "45450f01",
   "metadata": {},
   "outputs": [],
   "source": [
    "filtered_df[\"REF_DATE\"] = pd.to_datetime(filtered_df[\"REF_DATE\"], utc=True).dt.strftime(\"%d-%m-%Y\")"
   ]
  },
  {
   "cell_type": "code",
   "execution_count": 33,
   "id": "636a137f",
   "metadata": {},
   "outputs": [
    {
     "data": {
      "application/vnd.microsoft.datawrangler.viewer.v0+json": {
       "columns": [
        {
         "name": "index",
         "rawType": "int64",
         "type": "integer"
        },
        {
         "name": "REF_DATE",
         "rawType": "object",
         "type": "string"
        },
        {
         "name": "Inadiplencia",
         "rawType": "object",
         "type": "string"
        },
        {
         "name": "VAR2",
         "rawType": "object",
         "type": "string"
        },
        {
         "name": "IDADE",
         "rawType": "float64",
         "type": "float"
        },
        {
         "name": "VAR4",
         "rawType": "object",
         "type": "unknown"
        },
        {
         "name": "VAR5",
         "rawType": "object",
         "type": "string"
        },
        {
         "name": "VAR8",
         "rawType": "object",
         "type": "unknown"
        }
       ],
       "ref": "f4366691-2d19-43c3-beae-d699d6ec34d5",
       "rows": [
        [
         "0",
         "01-06-2017",
         "adimplente",
         "M",
         "34.137",
         null,
         "RO",
         "D"
        ],
        [
         "1",
         "18-08-2017",
         "adimplente",
         "M",
         "40.447",
         null,
         "PB",
         "E"
        ],
        [
         "2",
         "30-06-2017",
         "adimplente",
         "F",
         "33.515",
         null,
         "RS",
         null
        ],
        [
         "3",
         "05-08-2017",
         "inadiplente",
         "F",
         "25.797",
         null,
         "BA",
         "E"
        ],
        [
         "4",
         "29-07-2017",
         "adimplente",
         "F",
         "54.074",
         null,
         "RS",
         "B"
        ]
       ],
       "shape": {
        "columns": 7,
        "rows": 5
       }
      },
      "text/html": [
       "<div>\n",
       "<style scoped>\n",
       "    .dataframe tbody tr th:only-of-type {\n",
       "        vertical-align: middle;\n",
       "    }\n",
       "\n",
       "    .dataframe tbody tr th {\n",
       "        vertical-align: top;\n",
       "    }\n",
       "\n",
       "    .dataframe thead th {\n",
       "        text-align: right;\n",
       "    }\n",
       "</style>\n",
       "<table border=\"1\" class=\"dataframe\">\n",
       "  <thead>\n",
       "    <tr style=\"text-align: right;\">\n",
       "      <th></th>\n",
       "      <th>REF_DATE</th>\n",
       "      <th>Inadiplencia</th>\n",
       "      <th>VAR2</th>\n",
       "      <th>IDADE</th>\n",
       "      <th>VAR4</th>\n",
       "      <th>VAR5</th>\n",
       "      <th>VAR8</th>\n",
       "    </tr>\n",
       "  </thead>\n",
       "  <tbody>\n",
       "    <tr>\n",
       "      <th>0</th>\n",
       "      <td>01-06-2017</td>\n",
       "      <td>adimplente</td>\n",
       "      <td>M</td>\n",
       "      <td>34.137</td>\n",
       "      <td>NaN</td>\n",
       "      <td>RO</td>\n",
       "      <td>D</td>\n",
       "    </tr>\n",
       "    <tr>\n",
       "      <th>1</th>\n",
       "      <td>18-08-2017</td>\n",
       "      <td>adimplente</td>\n",
       "      <td>M</td>\n",
       "      <td>40.447</td>\n",
       "      <td>NaN</td>\n",
       "      <td>PB</td>\n",
       "      <td>E</td>\n",
       "    </tr>\n",
       "    <tr>\n",
       "      <th>2</th>\n",
       "      <td>30-06-2017</td>\n",
       "      <td>adimplente</td>\n",
       "      <td>F</td>\n",
       "      <td>33.515</td>\n",
       "      <td>NaN</td>\n",
       "      <td>RS</td>\n",
       "      <td>NaN</td>\n",
       "    </tr>\n",
       "    <tr>\n",
       "      <th>3</th>\n",
       "      <td>05-08-2017</td>\n",
       "      <td>inadiplente</td>\n",
       "      <td>F</td>\n",
       "      <td>25.797</td>\n",
       "      <td>NaN</td>\n",
       "      <td>BA</td>\n",
       "      <td>E</td>\n",
       "    </tr>\n",
       "    <tr>\n",
       "      <th>4</th>\n",
       "      <td>29-07-2017</td>\n",
       "      <td>adimplente</td>\n",
       "      <td>F</td>\n",
       "      <td>54.074</td>\n",
       "      <td>NaN</td>\n",
       "      <td>RS</td>\n",
       "      <td>B</td>\n",
       "    </tr>\n",
       "  </tbody>\n",
       "</table>\n",
       "</div>"
      ],
      "text/plain": [
       "     REF_DATE Inadiplencia VAR2   IDADE VAR4 VAR5 VAR8\n",
       "0  01-06-2017   adimplente    M  34.137  NaN   RO    D\n",
       "1  18-08-2017   adimplente    M  40.447  NaN   PB    E\n",
       "2  30-06-2017   adimplente    F  33.515  NaN   RS  NaN\n",
       "3  05-08-2017  inadiplente    F  25.797  NaN   BA    E\n",
       "4  29-07-2017   adimplente    F  54.074  NaN   RS    B"
      ]
     },
     "execution_count": 33,
     "metadata": {},
     "output_type": "execute_result"
    }
   ],
   "source": [
    "filtered_df.head()"
   ]
  },
  {
   "cell_type": "code",
   "execution_count": 35,
   "id": "cc857c9d",
   "metadata": {},
   "outputs": [
    {
     "data": {
      "application/vnd.microsoft.datawrangler.viewer.v0+json": {
       "columns": [
        {
         "name": "index",
         "rawType": "int64",
         "type": "integer"
        },
        {
         "name": "REF_DATE",
         "rawType": "object",
         "type": "string"
        }
       ],
       "ref": "c1e243fe-2921-48f4-8051-fd9ee1f99b02",
       "rows": [],
       "shape": {
        "columns": 1,
        "rows": 0
       }
      },
      "text/plain": [
       "Series([], Name: REF_DATE, dtype: object)"
      ]
     },
     "execution_count": 35,
     "metadata": {},
     "output_type": "execute_result"
    }
   ],
   "source": [
    "filtered_df[\"REF_DATE\"][filtered_df[\"REF_DATE\"].isnull()]"
   ]
  },
  {
   "cell_type": "code",
   "execution_count": null,
   "id": "5d5f3d3c",
   "metadata": {},
   "outputs": [],
   "source": []
  },
  {
   "cell_type": "markdown",
   "id": "33c8cae0",
   "metadata": {},
   "source": [
    "## Correcting the Target"
   ]
  },
  {
   "cell_type": "code",
   "execution_count": 20,
   "id": "674cfedc",
   "metadata": {},
   "outputs": [
    {
     "data": {
      "text/plain": [
       "array([0, 1])"
      ]
     },
     "execution_count": 20,
     "metadata": {},
     "output_type": "execute_result"
    }
   ],
   "source": [
    "filtered_df[\"TARGET\"].unique()"
   ]
  },
  {
   "cell_type": "markdown",
   "id": "3625728f",
   "metadata": {},
   "source": [
    "No problem here... So, to help the LLM, let's change the binary to Inadimplente or Adimplente"
   ]
  },
  {
   "cell_type": "code",
   "execution_count": 21,
   "id": "1b86047d",
   "metadata": {},
   "outputs": [],
   "source": [
    "filtered_df.rename(columns={\"TARGET\": \"Inadiplencia\"}, inplace=True)\n",
    "\n",
    "filtered_df[\"Inadiplencia\"] = filtered_df[\"Inadiplencia\"].map({\n",
    "    0: \"adimplente\",\n",
    "    1: \"inadiplente\"\n",
    "})"
   ]
  },
  {
   "cell_type": "code",
   "execution_count": 22,
   "id": "cacb4594",
   "metadata": {},
   "outputs": [
    {
     "data": {
      "application/vnd.microsoft.datawrangler.viewer.v0+json": {
       "columns": [
        {
         "name": "index",
         "rawType": "int64",
         "type": "integer"
        },
        {
         "name": "Inadiplencia",
         "rawType": "object",
         "type": "string"
        }
       ],
       "ref": "a91af013-7193-4a7b-9173-4f258db965ef",
       "rows": [
        [
         "0",
         "adimplente"
        ],
        [
         "1",
         "adimplente"
        ],
        [
         "2",
         "adimplente"
        ],
        [
         "3",
         "inadiplente"
        ],
        [
         "4",
         "adimplente"
        ]
       ],
       "shape": {
        "columns": 1,
        "rows": 5
       }
      },
      "text/plain": [
       "0     adimplente\n",
       "1     adimplente\n",
       "2     adimplente\n",
       "3    inadiplente\n",
       "4     adimplente\n",
       "Name: Inadiplencia, dtype: object"
      ]
     },
     "execution_count": 22,
     "metadata": {},
     "output_type": "execute_result"
    }
   ],
   "source": [
    "filtered_df[\"Inadiplencia\"].head()"
   ]
  },
  {
   "cell_type": "code",
   "execution_count": 36,
   "id": "4f40a752",
   "metadata": {},
   "outputs": [
    {
     "data": {
      "application/vnd.microsoft.datawrangler.viewer.v0+json": {
       "columns": [
        {
         "name": "index",
         "rawType": "int64",
         "type": "integer"
        },
        {
         "name": "Inadiplencia",
         "rawType": "object",
         "type": "string"
        }
       ],
       "ref": "b75b4cc5-d8b9-408d-87d4-5d8253764b4e",
       "rows": [],
       "shape": {
        "columns": 1,
        "rows": 0
       }
      },
      "text/plain": [
       "Series([], Name: Inadiplencia, dtype: object)"
      ]
     },
     "execution_count": 36,
     "metadata": {},
     "output_type": "execute_result"
    }
   ],
   "source": [
    "filtered_df[\"Inadiplencia\"][filtered_df[\"Inadiplencia\"].isnull()]"
   ]
  },
  {
   "cell_type": "markdown",
   "id": "bb226974",
   "metadata": {},
   "source": [
    "## Correcting VAR2"
   ]
  },
  {
   "cell_type": "code",
   "execution_count": 23,
   "id": "6fbe4855",
   "metadata": {},
   "outputs": [
    {
     "data": {
      "text/plain": [
       "array(['M', 'F', nan], dtype=object)"
      ]
     },
     "execution_count": 23,
     "metadata": {},
     "output_type": "execute_result"
    }
   ],
   "source": [
    "filtered_df[\"VAR2\"].unique()"
   ]
  },
  {
   "cell_type": "markdown",
   "id": "315bc852",
   "metadata": {},
   "source": [
    "Because it has nan symbol, i will check the amount, and validate if can be change to \"Non-specified\""
   ]
  },
  {
   "cell_type": "code",
   "execution_count": 27,
   "id": "6de1af15",
   "metadata": {},
   "outputs": [],
   "source": [
    "filtered_df[\"VAR2\"] = filtered_df[\"VAR2\"].fillna(\"Non-specified\")"
   ]
  },
  {
   "cell_type": "code",
   "execution_count": 28,
   "id": "37100862",
   "metadata": {},
   "outputs": [
    {
     "name": "stdout",
     "output_type": "stream",
     "text": [
      "VAR2\n",
      "F                60131\n",
      "M                46000\n",
      "Non-specified    14619\n",
      "Name: count, dtype: int64\n"
     ]
    }
   ],
   "source": [
    "counts_var2 = filtered_df[\"VAR2\"].value_counts()\n",
    "print(counts_var2)"
   ]
  },
  {
   "cell_type": "markdown",
   "id": "3e2fe774",
   "metadata": {},
   "source": [
    "A lot of missing data... So, Non-specified suits well..."
   ]
  },
  {
   "cell_type": "code",
   "execution_count": 37,
   "id": "06f8cb6c",
   "metadata": {},
   "outputs": [],
   "source": [
    "filtered_df.rename(columns={\"VAR2\": \"Sexo\"}, inplace=True)"
   ]
  },
  {
   "cell_type": "code",
   "execution_count": 38,
   "id": "e21e8ac0",
   "metadata": {},
   "outputs": [
    {
     "data": {
      "application/vnd.microsoft.datawrangler.viewer.v0+json": {
       "columns": [
        {
         "name": "index",
         "rawType": "int64",
         "type": "integer"
        },
        {
         "name": "Sexo",
         "rawType": "object",
         "type": "string"
        }
       ],
       "ref": "d3f45740-dbdb-4523-a20b-4efa18b47468",
       "rows": [],
       "shape": {
        "columns": 1,
        "rows": 0
       }
      },
      "text/plain": [
       "Series([], Name: Sexo, dtype: object)"
      ]
     },
     "execution_count": 38,
     "metadata": {},
     "output_type": "execute_result"
    }
   ],
   "source": [
    "filtered_df[\"Sexo\"][filtered_df[\"Sexo\"].isnull()]"
   ]
  },
  {
   "cell_type": "markdown",
   "id": "56c07790",
   "metadata": {},
   "source": [
    "## Correcting Idade"
   ]
  },
  {
   "cell_type": "code",
   "execution_count": 39,
   "id": "0b3d9b1c",
   "metadata": {},
   "outputs": [],
   "source": [
    "filtered_df[\"IDADE\"] = filtered_df[\"IDADE\"].fillna(filtered_df[\"IDADE\"].median().round().astype(int))"
   ]
  },
  {
   "cell_type": "code",
   "execution_count": 41,
   "id": "40292f78",
   "metadata": {},
   "outputs": [
    {
     "data": {
      "application/vnd.microsoft.datawrangler.viewer.v0+json": {
       "columns": [
        {
         "name": "index",
         "rawType": "int64",
         "type": "integer"
        },
        {
         "name": "IDADE",
         "rawType": "float64",
         "type": "float"
        }
       ],
       "ref": "61f13c65-23e4-44bb-a877-f6d6fc26564d",
       "rows": [
        [
         "118071",
         "49.233"
        ],
        [
         "91175",
         "72.54"
        ],
        [
         "64548",
         "66.578"
        ],
        [
         "39395",
         "51.901"
        ],
        [
         "66583",
         "64.488"
        ]
       ],
       "shape": {
        "columns": 1,
        "rows": 5
       }
      },
      "text/plain": [
       "118071    49.233\n",
       "91175     72.540\n",
       "64548     66.578\n",
       "39395     51.901\n",
       "66583     64.488\n",
       "Name: IDADE, dtype: float64"
      ]
     },
     "execution_count": 41,
     "metadata": {},
     "output_type": "execute_result"
    }
   ],
   "source": [
    "filtered_df[\"IDADE\"].sample(5).head()"
   ]
  },
  {
   "cell_type": "code",
   "execution_count": 42,
   "id": "59d447a4",
   "metadata": {},
   "outputs": [
    {
     "data": {
      "application/vnd.microsoft.datawrangler.viewer.v0+json": {
       "columns": [
        {
         "name": "index",
         "rawType": "int64",
         "type": "integer"
        },
        {
         "name": "IDADE",
         "rawType": "float64",
         "type": "float"
        }
       ],
       "ref": "d387fbe7-9d65-4f41-be8b-50a5042a2b0d",
       "rows": [],
       "shape": {
        "columns": 1,
        "rows": 0
       }
      },
      "text/plain": [
       "Series([], Name: IDADE, dtype: float64)"
      ]
     },
     "execution_count": 42,
     "metadata": {},
     "output_type": "execute_result"
    }
   ],
   "source": [
    "filtered_df[\"IDADE\"][filtered_df[\"IDADE\"].isnull()]"
   ]
  },
  {
   "cell_type": "code",
   "execution_count": 43,
   "id": "00ac1d26",
   "metadata": {},
   "outputs": [],
   "source": [
    "filtered_df[\"IDADE\"] = filtered_df[\"IDADE\"].round().astype(\"Int16\")"
   ]
  },
  {
   "cell_type": "code",
   "execution_count": 45,
   "id": "62d8771a",
   "metadata": {},
   "outputs": [
    {
     "data": {
      "application/vnd.microsoft.datawrangler.viewer.v0+json": {
       "columns": [
        {
         "name": "index",
         "rawType": "int64",
         "type": "integer"
        },
        {
         "name": "IDADE",
         "rawType": "Int16",
         "type": "integer"
        }
       ],
       "ref": "76acfee6-4e2f-45c0-ba33-4952b070f219",
       "rows": [
        [
         "49836",
         "19"
        ],
        [
         "96256",
         "71"
        ],
        [
         "109712",
         "57"
        ],
        [
         "105174",
         "49"
        ],
        [
         "39236",
         "40"
        ]
       ],
       "shape": {
        "columns": 1,
        "rows": 5
       }
      },
      "text/plain": [
       "49836     19\n",
       "96256     71\n",
       "109712    57\n",
       "105174    49\n",
       "39236     40\n",
       "Name: IDADE, dtype: Int16"
      ]
     },
     "execution_count": 45,
     "metadata": {},
     "output_type": "execute_result"
    }
   ],
   "source": [
    "filtered_df[\"IDADE\"].sample(5).head()"
   ]
  },
  {
   "cell_type": "markdown",
   "id": "c918e51a",
   "metadata": {},
   "source": [
    "## Correcting VAR4"
   ]
  },
  {
   "cell_type": "code",
   "execution_count": null,
   "id": "6296ed0f",
   "metadata": {},
   "outputs": [],
   "source": [
    "filtered_df.rename(columns={\"VAR4\": \"Obito\"}, inplace=True)"
   ]
  },
  {
   "cell_type": "code",
   "execution_count": 51,
   "id": "cf2f55e3",
   "metadata": {},
   "outputs": [
    {
     "data": {
      "text/plain": [
       "0"
      ]
     },
     "execution_count": 51,
     "metadata": {},
     "output_type": "execute_result"
    }
   ],
   "source": [
    "filtered_df[\"Obito\"][filtered_df[\"Obito\"].isnull()].sum()"
   ]
  },
  {
   "cell_type": "markdown",
   "id": "f98dfb43",
   "metadata": {},
   "source": [
    "If everything is good, everyone is Alive :D"
   ]
  },
  {
   "cell_type": "code",
   "execution_count": null,
   "id": "caaba47e",
   "metadata": {},
   "outputs": [],
   "source": [
    "filtered_df[\"Obito\"] = filtered_df[\"Obito\"].fillna(\"Vivo\")"
   ]
  },
  {
   "cell_type": "code",
   "execution_count": 56,
   "id": "a26b787e",
   "metadata": {},
   "outputs": [
    {
     "data": {
      "application/vnd.microsoft.datawrangler.viewer.v0+json": {
       "columns": [
        {
         "name": "index",
         "rawType": "int64",
         "type": "integer"
        },
        {
         "name": "Obito",
         "rawType": "object",
         "type": "string"
        }
       ],
       "ref": "9c58dc53-e330-40ba-93ad-0137acd1daca",
       "rows": [
        [
         "0",
         "Vivo"
        ],
        [
         "1",
         "Vivo"
        ],
        [
         "2",
         "Vivo"
        ],
        [
         "3",
         "Vivo"
        ],
        [
         "4",
         "Vivo"
        ]
       ],
       "shape": {
        "columns": 1,
        "rows": 5
       }
      },
      "text/plain": [
       "0    Vivo\n",
       "1    Vivo\n",
       "2    Vivo\n",
       "3    Vivo\n",
       "4    Vivo\n",
       "Name: Obito, dtype: object"
      ]
     },
     "execution_count": 56,
     "metadata": {},
     "output_type": "execute_result"
    }
   ],
   "source": [
    "filtered_df[\"Obito\"].head()"
   ]
  },
  {
   "cell_type": "markdown",
   "id": "cc401096",
   "metadata": {},
   "source": [
    "## Correcting VAR5"
   ]
  },
  {
   "cell_type": "code",
   "execution_count": 57,
   "id": "d2852373",
   "metadata": {},
   "outputs": [],
   "source": [
    "filtered_df.rename(columns={\"VAR5\": \"UF\"}, inplace=True)"
   ]
  },
  {
   "cell_type": "code",
   "execution_count": 58,
   "id": "8e6c1d18",
   "metadata": {},
   "outputs": [
    {
     "data": {
      "text/plain": [
       "array(['RO', 'PB', 'RS', 'BA', 'SP', 'MG', 'RJ', 'MS', 'PR', 'SC', 'RN',\n",
       "       nan, 'CE', 'AC', 'PE', 'TO', 'AL', 'MT', 'ES', 'MA', 'AM', 'PI',\n",
       "       'DF', 'GO', 'PA', 'SE', 'RR', 'AP'], dtype=object)"
      ]
     },
     "execution_count": 58,
     "metadata": {},
     "output_type": "execute_result"
    }
   ],
   "source": [
    "filtered_df[\"UF\"].unique()"
   ]
  },
  {
   "cell_type": "markdown",
   "id": "e3741478",
   "metadata": {},
   "source": [
    "We have nan, so lets check it"
   ]
  },
  {
   "cell_type": "code",
   "execution_count": 61,
   "id": "5e5b9648",
   "metadata": {},
   "outputs": [
    {
     "data": {
      "application/vnd.microsoft.datawrangler.viewer.v0+json": {
       "columns": [
        {
         "name": "UF",
         "rawType": "object",
         "type": "string"
        },
        {
         "name": "count",
         "rawType": "int64",
         "type": "integer"
        }
       ],
       "ref": "e3f11234-7184-4dbe-83b1-5c49b4ac590c",
       "rows": [
        [
         "SP",
         "19079"
        ],
        [
         "BA",
         "10306"
        ],
        [
         "PA",
         "10159"
        ],
        [
         "RS",
         "8410"
        ],
        [
         "CE",
         "8262"
        ],
        [
         "MG",
         "7757"
        ],
        [
         "PE",
         "7056"
        ],
        [
         "RJ",
         "4617"
        ],
        [
         "AM",
         "4145"
        ],
        [
         "RN",
         "3800"
        ],
        [
         "PR",
         "3668"
        ],
        [
         "PB",
         "3085"
        ],
        [
         "AL",
         "2800"
        ],
        [
         "ES",
         "2765"
        ],
        [
         "MS",
         "2515"
        ],
        [
         "GO",
         "2369"
        ],
        [
         "AC",
         "2304"
        ],
        [
         "MA",
         "2083"
        ],
        [
         "MT",
         "2015"
        ],
        [
         "SC",
         "2013"
        ],
        [
         "PI",
         "1858"
        ],
        [
         "RO",
         "1731"
        ],
        [
         "AP",
         "1292"
        ],
        [
         "SE",
         "1175"
        ],
        [
         "DF",
         "790"
        ],
        [
         "TO",
         "767"
        ],
        [
         "RR",
         "573"
        ]
       ],
       "shape": {
        "columns": 1,
        "rows": 27
       }
      },
      "text/plain": [
       "UF\n",
       "SP    19079\n",
       "BA    10306\n",
       "PA    10159\n",
       "RS     8410\n",
       "CE     8262\n",
       "MG     7757\n",
       "PE     7056\n",
       "RJ     4617\n",
       "AM     4145\n",
       "RN     3800\n",
       "PR     3668\n",
       "PB     3085\n",
       "AL     2800\n",
       "ES     2765\n",
       "MS     2515\n",
       "GO     2369\n",
       "AC     2304\n",
       "MA     2083\n",
       "MT     2015\n",
       "SC     2013\n",
       "PI     1858\n",
       "RO     1731\n",
       "AP     1292\n",
       "SE     1175\n",
       "DF      790\n",
       "TO      767\n",
       "RR      573\n",
       "Name: count, dtype: int64"
      ]
     },
     "execution_count": 61,
     "metadata": {},
     "output_type": "execute_result"
    }
   ],
   "source": [
    "filtered_df[\"UF\"].value_counts()"
   ]
  },
  {
   "cell_type": "code",
   "execution_count": 62,
   "id": "624f3520",
   "metadata": {},
   "outputs": [
    {
     "data": {
      "text/plain": [
       "np.int64(3356)"
      ]
     },
     "execution_count": 62,
     "metadata": {},
     "output_type": "execute_result"
    }
   ],
   "source": [
    "filtered_df[\"UF\"].isnull().sum()"
   ]
  },
  {
   "cell_type": "markdown",
   "id": "014d87ac",
   "metadata": {},
   "source": [
    "3000 it's a lot, so, let's create a new category to fit it."
   ]
  },
  {
   "cell_type": "code",
   "execution_count": 65,
   "id": "5740ee7c",
   "metadata": {},
   "outputs": [],
   "source": [
    "filtered_df[\"UF\"].fillna(\"Non-specified\", inplace=True)"
   ]
  },
  {
   "cell_type": "code",
   "execution_count": 66,
   "id": "6053fa40",
   "metadata": {},
   "outputs": [
    {
     "data": {
      "text/plain": [
       "np.int64(0)"
      ]
     },
     "execution_count": 66,
     "metadata": {},
     "output_type": "execute_result"
    }
   ],
   "source": [
    "filtered_df[\"UF\"].isnull().sum()"
   ]
  },
  {
   "cell_type": "markdown",
   "id": "db685913",
   "metadata": {},
   "source": [
    "## Correcting VAR8"
   ]
  },
  {
   "cell_type": "code",
   "execution_count": 67,
   "id": "0252d2d1",
   "metadata": {},
   "outputs": [],
   "source": [
    "filtered_df.rename(columns={\"VAR8\": \"Classe Social\"}, inplace=True)"
   ]
  },
  {
   "cell_type": "code",
   "execution_count": 68,
   "id": "45941e96",
   "metadata": {},
   "outputs": [
    {
     "data": {
      "text/plain": [
       "np.int64(53110)"
      ]
     },
     "execution_count": 68,
     "metadata": {},
     "output_type": "execute_result"
    }
   ],
   "source": [
    "filtered_df[\"Classe Social\"].isnull().sum()"
   ]
  },
  {
   "cell_type": "markdown",
   "id": "c31aa13c",
   "metadata": {},
   "source": [
    "That's a huge number, let me compare to the complete dataset.."
   ]
  },
  {
   "cell_type": "code",
   "execution_count": 70,
   "id": "366fefa8",
   "metadata": {},
   "outputs": [
    {
     "data": {
      "text/plain": [
       "67640"
      ]
     },
     "execution_count": 70,
     "metadata": {},
     "output_type": "execute_result"
    }
   ],
   "source": [
    "int(filtered_df.shape[0]) - int(filtered_df[\"Classe Social\"].isnull().sum())"
   ]
  },
  {
   "cell_type": "markdown",
   "id": "d8142221",
   "metadata": {},
   "source": [
    "We don't have nearly half of the dataset, i will placed a N/S to avoid getting wrong data, even if i consider statistics"
   ]
  },
  {
   "cell_type": "code",
   "execution_count": 72,
   "id": "5e5439fa",
   "metadata": {},
   "outputs": [],
   "source": [
    "filtered_df[\"Classe Social\"].fillna(\"Non-specified\", inplace=True)"
   ]
  },
  {
   "cell_type": "code",
   "execution_count": 74,
   "id": "6c6fa6aa",
   "metadata": {},
   "outputs": [
    {
     "data": {
      "text/plain": [
       "np.int64(0)"
      ]
     },
     "execution_count": 74,
     "metadata": {},
     "output_type": "execute_result"
    }
   ],
   "source": [
    "filtered_df[\"Classe Social\"].isnull().sum()"
   ]
  },
  {
   "cell_type": "code",
   "execution_count": 78,
   "id": "ceef385a",
   "metadata": {},
   "outputs": [
    {
     "data": {
      "application/vnd.microsoft.datawrangler.viewer.v0+json": {
       "columns": [
        {
         "name": "Classe Social",
         "rawType": "object",
         "type": "string"
        },
        {
         "name": "count",
         "rawType": "int64",
         "type": "integer"
        }
       ],
       "ref": "4e90d7dd-ec91-4e3e-aa49-f27f49a8e040",
       "rows": [
        [
         "E",
         "54928"
        ],
        [
         "Non-specified",
         "53110"
        ],
        [
         "D",
         "9130"
        ],
        [
         "C",
         "2972"
        ],
        [
         "B",
         "449"
        ],
        [
         "A",
         "161"
        ]
       ],
       "shape": {
        "columns": 1,
        "rows": 6
       }
      },
      "text/plain": [
       "Classe Social\n",
       "E                54928\n",
       "Non-specified    53110\n",
       "D                 9130\n",
       "C                 2972\n",
       "B                  449\n",
       "A                  161\n",
       "Name: count, dtype: int64"
      ]
     },
     "execution_count": 78,
     "metadata": {},
     "output_type": "execute_result"
    }
   ],
   "source": [
    "filtered_df[\"Classe Social\"].value_counts()"
   ]
  },
  {
   "cell_type": "markdown",
   "id": "d8a1e255",
   "metadata": {},
   "source": [
    "# Saving the \"Ready\" version\n",
    "\n",
    "What was done...\n",
    "\n",
    "Solved most of the issues with the dataset, and prepare the data to be sent to a DB...\n",
    "\n",
    "The columns that changed, follows\n",
    "\n",
    "- REF_DATE  (Data de referência do registro)\n",
    "- TARGET    (Alvo binário de inadimplência (1: Mau Pagador, i.e. atrado > 60 dias em 2 meses))\n",
    "- VAR2      (Sexo)\n",
    "- IDADE     (Idade do Individuo)\n",
    "- VAR4      (Flag de óbito)\n",
    "- VAR5      (Unidade Federativa (UF) brasileira)\n",
    "- VAR8      (Classe social estimada)"
   ]
  },
  {
   "cell_type": "code",
   "execution_count": 80,
   "id": "707369f3",
   "metadata": {},
   "outputs": [
    {
     "name": "stdout",
     "output_type": "stream",
     "text": [
      "[OK] CSV salvo em ../../data/ready/train.csv\n"
     ]
    }
   ],
   "source": [
    "save_dataframe_csv(filtered_df, TARGET_PATH)"
   ]
  },
  {
   "cell_type": "code",
   "execution_count": null,
   "id": "a3a08059",
   "metadata": {},
   "outputs": [],
   "source": []
  }
 ],
 "metadata": {
  "kernelspec": {
   "display_name": "RAG_SQL_LLM Env",
   "language": "python",
   "name": "rag_sql_llm_env"
  },
  "language_info": {
   "codemirror_mode": {
    "name": "ipython",
    "version": 3
   },
   "file_extension": ".py",
   "mimetype": "text/x-python",
   "name": "python",
   "nbconvert_exporter": "python",
   "pygments_lexer": "ipython3",
   "version": "3.10.11"
  }
 },
 "nbformat": 4,
 "nbformat_minor": 5
}
